{
 "cells": [
  {
   "cell_type": "code",
   "execution_count": 1,
   "metadata": {},
   "outputs": [],
   "source": [
    "import json\n",
    "import pandas as pd\n",
    "import glob"
   ]
  },
  {
   "cell_type": "code",
   "execution_count": 2,
   "metadata": {},
   "outputs": [],
   "source": [
    "def reconstruct_abstract(inverted_index):\n",
    "    if inverted_index is None:\n",
    "        return None\n",
    "    else:\n",
    "        # Create a list of tuples, each containing a word and its first occurrence index\n",
    "        word_positions = [(word, positions[0]) for word, positions in inverted_index.items()]\n",
    "\n",
    "        # Sort the tuples based on the index\n",
    "        sorted_words = sorted(word_positions, key=lambda x: x[1])\n",
    "\n",
    "        # Extract the sorted words\n",
    "        sorted_words_only = [word for word, position in sorted_words]\n",
    "\n",
    "        # Join the words into a single string\n",
    "        abstract = ' '.join(sorted_words_only)\n",
    "\n",
    "        return abstract\n",
    "    \n",
    "def extract_author_names(author_list):\n",
    "    # Extract 'display_name' from each dictionary in the list\n",
    "    author_names = [author['author']['display_name'] for author in author_list if 'author' in author and 'display_name' in author['author']]\n",
    "    \n",
    "    # Join the names with '|'\n",
    "    return '|'.join(author_names)\n",
    "\n",
    "def extract_display_names(location_list):\n",
    "    if location_list is None or not isinstance(location_list, list):\n",
    "        return None\n",
    "\n",
    "    display_names = []\n",
    "    for location in location_list:\n",
    "        # Check if 'source' exists and is a dictionary\n",
    "        if location and isinstance(location, dict) and 'source' in location and isinstance(location['source'], dict):\n",
    "            # Extract 'display_name' if it exists\n",
    "            display_name = location['source'].get('display_name')\n",
    "            if display_name:\n",
    "                display_names.append(display_name)\n",
    "\n",
    "    return '|'.join(display_names)\n",
    "\n",
    "\n",
    "def extract_concept_names(concept_list):\n",
    "    if concept_list is None or not isinstance(concept_list, list):\n",
    "        return None\n",
    "\n",
    "    display_names = []\n",
    "    for concept in concept_list:\n",
    "        # Check if concept is a dictionary and has 'display_name'\n",
    "        if concept and isinstance(concept, dict) and 'display_name' in concept:\n",
    "            # Extract 'display_name'\n",
    "            display_name = concept.get('display_name')\n",
    "            if display_name:\n",
    "                display_names.append(display_name)\n",
    "\n",
    "    return '|'.join(display_names)\n"
   ]
  },
  {
   "cell_type": "code",
   "execution_count": 3,
   "metadata": {},
   "outputs": [
    {
     "data": {
      "text/plain": [
       "64"
      ]
     },
     "execution_count": 3,
     "metadata": {},
     "output_type": "execute_result"
    }
   ],
   "source": [
    "files = glob.glob(\"data/*.json\")\n",
    "len(files)"
   ]
  },
  {
   "cell_type": "code",
   "execution_count": 4,
   "metadata": {},
   "outputs": [],
   "source": [
    "dataframes = []\n",
    "\n",
    "# Loop through the files and append each dataframe to the list\n",
    "for file in files:\n",
    "    df = pd.read_json(file)\n",
    "    dataframes.append(df)\n",
    "\n",
    "# Concatenate all dataframes in the list\n",
    "merged_df = pd.concat(dataframes, ignore_index=True)\n",
    "\n",
    "merged_df = merged_df.sort_values(by='publication_year', ascending=False)\n",
    "\n",
    "# Reset the index after sorting\n",
    "merged_df = merged_df.reset_index(drop=True)"
   ]
  },
  {
   "cell_type": "code",
   "execution_count": 5,
   "metadata": {},
   "outputs": [],
   "source": [
    "merged_df['abstract'] = merged_df['abstract_inverted_index'].apply(reconstruct_abstract)\n",
    "merged_df['authors'] = merged_df['authorships'].apply(extract_author_names)\n",
    "\n",
    "merged_df['publication'] = merged_df['locations'].apply(extract_display_names)\n",
    "merged_df['concepts'] = merged_df['concepts'].apply(extract_concept_names)"
   ]
  },
  {
   "cell_type": "code",
   "execution_count": null,
   "metadata": {},
   "outputs": [],
   "source": [
    "merged_df.to_csv(\"data/database.csv\")"
   ]
  },
  {
   "cell_type": "code",
   "execution_count": null,
   "metadata": {},
   "outputs": [
    {
     "data": {
      "text/plain": [
       "Index(['id', 'doi', 'title', 'display_name', 'relevance_score',\n",
       "       'publication_year', 'publication_date', 'ids', 'language',\n",
       "       'primary_location', 'type', 'type_crossref', 'open_access',\n",
       "       'authorships', 'countries_distinct_count',\n",
       "       'institutions_distinct_count', 'corresponding_author_ids',\n",
       "       'corresponding_institution_ids', 'apc_list', 'apc_paid', 'has_fulltext',\n",
       "       'fulltext_origin', 'cited_by_count', 'cited_by_percentile_year',\n",
       "       'biblio', 'is_retracted', 'is_paratext', 'keywords', 'concepts', 'mesh',\n",
       "       'locations_count', 'locations', 'best_oa_location',\n",
       "       'sustainable_development_goals', 'grants', 'referenced_works_count',\n",
       "       'referenced_works', 'related_works', 'ngrams_url',\n",
       "       'abstract_inverted_index', 'cited_by_api_url', 'counts_by_year',\n",
       "       'updated_date', 'created_date', 'is_authors_truncated', 'abstract',\n",
       "       'authors', 'publication'],\n",
       "      dtype='object')"
      ]
     },
     "execution_count": 29,
     "metadata": {},
     "output_type": "execute_result"
    }
   ],
   "source": [
    "merged_df.columns"
   ]
  },
  {
   "cell_type": "code",
   "execution_count": null,
   "metadata": {},
   "outputs": [
    {
     "data": {
      "text/plain": [
       "'DART ion source|Pepper|Mass spectrometry|Chromatography|Dart|Chemistry|Linear discriminant analysis|Gas chromatography–mass spectrometry|Chemometrics|Analytical Chemistry (journal)|Mathematics|Computer science|Statistics|Electron ionization|Ion|Food science|Organic chemistry|Programming language|Ionization'"
      ]
     },
     "execution_count": 30,
     "metadata": {},
     "output_type": "execute_result"
    }
   ],
   "source": [
    "merged_df.iloc[3][\"concepts\"]"
   ]
  },
  {
   "cell_type": "code",
   "execution_count": null,
   "metadata": {},
   "outputs": [
    {
     "data": {
      "text/plain": [
       "190042"
      ]
     },
     "execution_count": 31,
     "metadata": {},
     "output_type": "execute_result"
    }
   ],
   "source": [
    "len(merged_df.concepts.unique())"
   ]
  },
  {
   "cell_type": "code",
   "execution_count": null,
   "metadata": {},
   "outputs": [
    {
     "data": {
      "text/plain": [
       "'Reading (process)|Bridge (graph theory)|Computer science|Linguistics|Philosophy|Medicine|Internal medicine'"
      ]
     },
     "execution_count": 32,
     "metadata": {},
     "output_type": "execute_result"
    }
   ],
   "source": [
    "merged_df.iloc[200].concepts"
   ]
  },
  {
   "cell_type": "code",
   "execution_count": null,
   "metadata": {},
   "outputs": [],
   "source": [
    "def load_data():\n",
    "    df = pd.read_csv(\"data/database.csv\")\n",
    "    # List the columns you want to keep, including 'displayname' and 'author_names'\n",
    "    columns_to_keep = [\"title\", \"authors\", \"publication_year\", \"abstract\", \"type\", \"publication\", \"language\", \"concepts\", \"doi\"]  # Add other columns as needed\n",
    "\n",
    "    # Select only these columns\n",
    "    df = df[columns_to_keep]\n",
    "\n",
    "    # Rename 'displayname' to 'title' and 'author_names' to 'authors'\n",
    "    df = df.rename(columns={\"publication_year\": \"year\"})\n",
    "\n",
    "    return df\n",
    "\n",
    "df2 = load_data()\n",
    "\n",
    "df2 = df2.drop_duplicates()\n",
    "df2 = df2.reset_index(drop=True)\n",
    "df2.to_parquet(\"data/database.parquet\")"
   ]
  },
  {
   "cell_type": "code",
   "execution_count": null,
   "metadata": {},
   "outputs": [
    {
     "data": {
      "text/html": [
       "<div>\n",
       "<style scoped>\n",
       "    .dataframe tbody tr th:only-of-type {\n",
       "        vertical-align: middle;\n",
       "    }\n",
       "\n",
       "    .dataframe tbody tr th {\n",
       "        vertical-align: top;\n",
       "    }\n",
       "\n",
       "    .dataframe thead th {\n",
       "        text-align: right;\n",
       "    }\n",
       "</style>\n",
       "<table border=\"1\" class=\"dataframe\">\n",
       "  <thead>\n",
       "    <tr style=\"text-align: right;\">\n",
       "      <th></th>\n",
       "      <th>title</th>\n",
       "      <th>authors</th>\n",
       "      <th>year</th>\n",
       "      <th>abstract</th>\n",
       "      <th>type</th>\n",
       "      <th>publication</th>\n",
       "      <th>language</th>\n",
       "      <th>concepts</th>\n",
       "      <th>doi</th>\n",
       "    </tr>\n",
       "  </thead>\n",
       "  <tbody>\n",
       "    <tr>\n",
       "      <th>0</th>\n",
       "      <td>Other books received</td>\n",
       "      <td>R. Fox</td>\n",
       "      <td>2004</td>\n",
       "      <td>NaN</td>\n",
       "      <td>article</td>\n",
       "      <td>Journal of the Royal Society of Medicine</td>\n",
       "      <td>en</td>\n",
       "      <td>World Wide Web|Computer science|Library scienc...</td>\n",
       "      <td>https://doi.org/10.1258/jrsm.97.3.151</td>\n",
       "    </tr>\n",
       "    <tr>\n",
       "      <th>1</th>\n",
       "      <td>In This Issue</td>\n",
       "      <td>Christopher Tomlins</td>\n",
       "      <td>2004</td>\n",
       "      <td>NaN</td>\n",
       "      <td>article</td>\n",
       "      <td>Law and History Review</td>\n",
       "      <td>NaN</td>\n",
       "      <td>Political science</td>\n",
       "      <td>https://doi.org/10.1017/s0738248000015467</td>\n",
       "    </tr>\n",
       "    <tr>\n",
       "      <th>2</th>\n",
       "      <td>Front Matter</td>\n",
       "      <td>NaN</td>\n",
       "      <td>2004</td>\n",
       "      <td>Next article No AccessFront MatterPDFPDF PLUS ...</td>\n",
       "      <td>article</td>\n",
       "      <td>Speculum</td>\n",
       "      <td>en</td>\n",
       "      <td>Front (military)|Download|History|Library scie...</td>\n",
       "      <td>https://doi.org/10.1017/s0038713400094690</td>\n",
       "    </tr>\n",
       "    <tr>\n",
       "      <th>3</th>\n",
       "      <td>NaN</td>\n",
       "      <td>K. Dodds</td>\n",
       "      <td>2004</td>\n",
       "      <td>The current study applied gas chromatography-m...</td>\n",
       "      <td>article</td>\n",
       "      <td>Journal of Historical Geography</td>\n",
       "      <td>en</td>\n",
       "      <td>DART ion source|Pepper|Mass spectrometry|Chrom...</td>\n",
       "      <td>https://doi.org/10.1016/j.jhg.2003.11.012</td>\n",
       "    </tr>\n",
       "    <tr>\n",
       "      <th>4</th>\n",
       "      <td>Dancing to Utopia: Modernity, Community and th...</td>\n",
       "      <td>Colin Counsell</td>\n",
       "      <td>2004</td>\n",
       "      <td>NaN</td>\n",
       "      <td>article</td>\n",
       "      <td>Dance Research</td>\n",
       "      <td>en</td>\n",
       "      <td>Utopia|Modernity|Art|Choir|Movement (music)|Ar...</td>\n",
       "      <td>https://doi.org/10.2307/4147310</td>\n",
       "    </tr>\n",
       "    <tr>\n",
       "      <th>...</th>\n",
       "      <td>...</td>\n",
       "      <td>...</td>\n",
       "      <td>...</td>\n",
       "      <td>...</td>\n",
       "      <td>...</td>\n",
       "      <td>...</td>\n",
       "      <td>...</td>\n",
       "      <td>...</td>\n",
       "      <td>...</td>\n",
       "    </tr>\n",
       "    <tr>\n",
       "      <th>290394</th>\n",
       "      <td>&lt;i&gt;Francisco de los Cobos, Secretary to the Em...</td>\n",
       "      <td>Wallace K. Ferguson</td>\n",
       "      <td>1960</td>\n",
       "      <td>Find information about UTP Journals. Universit...</td>\n",
       "      <td>article</td>\n",
       "      <td>The Canadian historical review</td>\n",
       "      <td>en</td>\n",
       "      <td>Emperor|Publishing|Indigenous|Politics|The Ren...</td>\n",
       "      <td>https://doi.org/10.3138/chr-041-04-br17</td>\n",
       "    </tr>\n",
       "    <tr>\n",
       "      <th>290395</th>\n",
       "      <td>&lt;i&gt;The Letters and Journals of Simon Fraser, 1...</td>\n",
       "      <td>J. H. Stewart Reed</td>\n",
       "      <td>1960</td>\n",
       "      <td>Find information about UTP Journals. Universit...</td>\n",
       "      <td>article</td>\n",
       "      <td>The Canadian historical review</td>\n",
       "      <td>en</td>\n",
       "      <td>History|Psychology</td>\n",
       "      <td>https://doi.org/10.3138/chr-041-04-br07</td>\n",
       "    </tr>\n",
       "    <tr>\n",
       "      <th>290396</th>\n",
       "      <td>&lt;i&gt;Guide to the Manuscript Maps in the William...</td>\n",
       "      <td>Theodore E. Layng</td>\n",
       "      <td>1960</td>\n",
       "      <td>Find information about UTP Journals. Universit...</td>\n",
       "      <td>article</td>\n",
       "      <td>The Canadian historical review</td>\n",
       "      <td>en</td>\n",
       "      <td>Publishing|Indigenous|Slavic languages|The Ren...</td>\n",
       "      <td>https://doi.org/10.3138/chr-041-04-br67</td>\n",
       "    </tr>\n",
       "    <tr>\n",
       "      <th>290397</th>\n",
       "      <td>&lt;i&gt;From Joseph II to the Jacobin Trials: Gover...</td>\n",
       "      <td>R. R. Palmer</td>\n",
       "      <td>1960</td>\n",
       "      <td>Find information about UTP Journals. Universit...</td>\n",
       "      <td>article</td>\n",
       "      <td>The Canadian historical review</td>\n",
       "      <td>en</td>\n",
       "      <td>Jacobin|Period (music)|Public opinion|Governme...</td>\n",
       "      <td>https://doi.org/10.3138/chr-041-04-br18</td>\n",
       "    </tr>\n",
       "    <tr>\n",
       "      <th>290398</th>\n",
       "      <td>&lt;i&gt;Histoire du Canada&lt;/i&gt;. I. &lt;i&gt;Des origines ...</td>\n",
       "      <td>A. L. Burt</td>\n",
       "      <td>1960</td>\n",
       "      <td>Find information about UTP Journals. Universit...</td>\n",
       "      <td>article</td>\n",
       "      <td>The Canadian historical review</td>\n",
       "      <td>en</td>\n",
       "      <td>Political science|History</td>\n",
       "      <td>https://doi.org/10.3138/chr-041-04-br02</td>\n",
       "    </tr>\n",
       "  </tbody>\n",
       "</table>\n",
       "<p>290399 rows × 9 columns</p>\n",
       "</div>"
      ],
      "text/plain": [
       "                                                    title  \\\n",
       "0                                    Other books received   \n",
       "1                                           In This Issue   \n",
       "2                                            Front Matter   \n",
       "3                                                     NaN   \n",
       "4       Dancing to Utopia: Modernity, Community and th...   \n",
       "...                                                   ...   \n",
       "290394  <i>Francisco de los Cobos, Secretary to the Em...   \n",
       "290395  <i>The Letters and Journals of Simon Fraser, 1...   \n",
       "290396  <i>Guide to the Manuscript Maps in the William...   \n",
       "290397  <i>From Joseph II to the Jacobin Trials: Gover...   \n",
       "290398  <i>Histoire du Canada</i>. I. <i>Des origines ...   \n",
       "\n",
       "                    authors  year  \\\n",
       "0                    R. Fox  2004   \n",
       "1       Christopher Tomlins  2004   \n",
       "2                       NaN  2004   \n",
       "3                  K. Dodds  2004   \n",
       "4            Colin Counsell  2004   \n",
       "...                     ...   ...   \n",
       "290394  Wallace K. Ferguson  1960   \n",
       "290395   J. H. Stewart Reed  1960   \n",
       "290396    Theodore E. Layng  1960   \n",
       "290397         R. R. Palmer  1960   \n",
       "290398           A. L. Burt  1960   \n",
       "\n",
       "                                                 abstract     type  \\\n",
       "0                                                     NaN  article   \n",
       "1                                                     NaN  article   \n",
       "2       Next article No AccessFront MatterPDFPDF PLUS ...  article   \n",
       "3       The current study applied gas chromatography-m...  article   \n",
       "4                                                     NaN  article   \n",
       "...                                                   ...      ...   \n",
       "290394  Find information about UTP Journals. Universit...  article   \n",
       "290395  Find information about UTP Journals. Universit...  article   \n",
       "290396  Find information about UTP Journals. Universit...  article   \n",
       "290397  Find information about UTP Journals. Universit...  article   \n",
       "290398  Find information about UTP Journals. Universit...  article   \n",
       "\n",
       "                                     publication language  \\\n",
       "0       Journal of the Royal Society of Medicine       en   \n",
       "1                         Law and History Review      NaN   \n",
       "2                                       Speculum       en   \n",
       "3                Journal of Historical Geography       en   \n",
       "4                                 Dance Research       en   \n",
       "...                                          ...      ...   \n",
       "290394            The Canadian historical review       en   \n",
       "290395            The Canadian historical review       en   \n",
       "290396            The Canadian historical review       en   \n",
       "290397            The Canadian historical review       en   \n",
       "290398            The Canadian historical review       en   \n",
       "\n",
       "                                                 concepts  \\\n",
       "0       World Wide Web|Computer science|Library scienc...   \n",
       "1                                       Political science   \n",
       "2       Front (military)|Download|History|Library scie...   \n",
       "3       DART ion source|Pepper|Mass spectrometry|Chrom...   \n",
       "4       Utopia|Modernity|Art|Choir|Movement (music)|Ar...   \n",
       "...                                                   ...   \n",
       "290394  Emperor|Publishing|Indigenous|Politics|The Ren...   \n",
       "290395                                 History|Psychology   \n",
       "290396  Publishing|Indigenous|Slavic languages|The Ren...   \n",
       "290397  Jacobin|Period (music)|Public opinion|Governme...   \n",
       "290398                          Political science|History   \n",
       "\n",
       "                                              doi  \n",
       "0           https://doi.org/10.1258/jrsm.97.3.151  \n",
       "1       https://doi.org/10.1017/s0738248000015467  \n",
       "2       https://doi.org/10.1017/s0038713400094690  \n",
       "3       https://doi.org/10.1016/j.jhg.2003.11.012  \n",
       "4                 https://doi.org/10.2307/4147310  \n",
       "...                                           ...  \n",
       "290394    https://doi.org/10.3138/chr-041-04-br17  \n",
       "290395    https://doi.org/10.3138/chr-041-04-br07  \n",
       "290396    https://doi.org/10.3138/chr-041-04-br67  \n",
       "290397    https://doi.org/10.3138/chr-041-04-br18  \n",
       "290398    https://doi.org/10.3138/chr-041-04-br02  \n",
       "\n",
       "[290399 rows x 9 columns]"
      ]
     },
     "execution_count": 34,
     "metadata": {},
     "output_type": "execute_result"
    }
   ],
   "source": [
    "df2"
   ]
  },
  {
   "cell_type": "code",
   "execution_count": null,
   "metadata": {},
   "outputs": [
    {
     "data": {
      "text/plain": [
       "190042"
      ]
     },
     "execution_count": 37,
     "metadata": {},
     "output_type": "execute_result"
    }
   ],
   "source": [
    "len(df2.concepts.unique())"
   ]
  },
  {
   "cell_type": "code",
   "execution_count": null,
   "metadata": {},
   "outputs": [
    {
     "data": {
      "text/plain": [
       "array(['en', nan, 'so', 'es', 'it', 'pt', 'ro', 'af', 'de', 'fr', 'ca',\n",
       "       'ru', 'id', 'sv', 'tr', 'nl', 'vi', 'tl', 'fi', 'cy', 'sw', 'cs',\n",
       "       'sl', 'da', 'hr', 'et', 'el', 'ar', 'pl', 'lt', 'sk', 'zh-tw',\n",
       "       'ja', 'no', 'hu', 'ko', 'zh-cn', 'lv', 'sq', 'he', 'bg', 'th',\n",
       "       'fa', 'ml'], dtype=object)"
      ]
     },
     "execution_count": 36,
     "metadata": {},
     "output_type": "execute_result"
    }
   ],
   "source": [
    "df2.language.unique()"
   ]
  },
  {
   "cell_type": "code",
   "execution_count": null,
   "metadata": {},
   "outputs": [
    {
     "name": "stdout",
     "output_type": "stream",
     "text": [
      "1886466\n"
     ]
    }
   ],
   "source": [
    "cons = []\n",
    "for c in df2.concepts.unique():\n",
    "    if type(c) == str:\n",
    "        for item in c.split(\"|\"):\n",
    "            cons.append(item)\n",
    "# cons = list(set(cons))\n",
    "cons.sort()\n",
    "print(len(cons))"
   ]
  },
  {
   "cell_type": "code",
   "execution_count": null,
   "metadata": {},
   "outputs": [],
   "source": [
    "from collections import Counter"
   ]
  },
  {
   "cell_type": "code",
   "execution_count": null,
   "metadata": {},
   "outputs": [],
   "source": [
    "# Use Counter to count the occurrences of each item\n",
    "counter = Counter(cons)\n",
    "\n",
    "# Get the most common items\n",
    "most_common_items = counter.most_common()"
   ]
  },
  {
   "cell_type": "code",
   "execution_count": null,
   "metadata": {},
   "outputs": [],
   "source": []
  },
  {
   "cell_type": "code",
   "execution_count": null,
   "metadata": {},
   "outputs": [],
   "source": []
  }
 ],
 "metadata": {
  "kernelspec": {
   "display_name": "mena",
   "language": "python",
   "name": "python3"
  },
  "language_info": {
   "codemirror_mode": {
    "name": "ipython",
    "version": 3
   },
   "file_extension": ".py",
   "mimetype": "text/x-python",
   "name": "python",
   "nbconvert_exporter": "python",
   "pygments_lexer": "ipython3",
   "version": "3.10.13"
  }
 },
 "nbformat": 4,
 "nbformat_minor": 2
}
