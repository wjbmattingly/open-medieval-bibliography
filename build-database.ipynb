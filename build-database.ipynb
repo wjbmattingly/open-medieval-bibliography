{
 "cells": [
  {
   "cell_type": "code",
   "execution_count": 1,
   "metadata": {},
   "outputs": [],
   "source": [
    "import json\n",
    "import pandas as pd\n",
    "import glob"
   ]
  },
  {
   "cell_type": "code",
   "execution_count": 2,
   "metadata": {},
   "outputs": [],
   "source": [
    "def reconstruct_abstract(inverted_index):\n",
    "    if inverted_index is None:\n",
    "        return None\n",
    "    else:\n",
    "        # Create a list of tuples, each containing a word and its first occurrence index\n",
    "        word_positions = [(word, positions[0]) for word, positions in inverted_index.items()]\n",
    "\n",
    "        # Sort the tuples based on the index\n",
    "        sorted_words = sorted(word_positions, key=lambda x: x[1])\n",
    "\n",
    "        # Extract the sorted words\n",
    "        sorted_words_only = [word for word, position in sorted_words]\n",
    "\n",
    "        # Join the words into a single string\n",
    "        abstract = ' '.join(sorted_words_only)\n",
    "\n",
    "        return abstract\n",
    "    \n",
    "def extract_author_names(author_list):\n",
    "    # Extract 'display_name' from each dictionary in the list\n",
    "    author_names = [author['author']['display_name'] for author in author_list if 'author' in author and 'display_name' in author['author']]\n",
    "    \n",
    "    # Join the names with '|'\n",
    "    return '|'.join(author_names)\n",
    "\n",
    "def extract_display_names(location_list):\n",
    "    if location_list is None or not isinstance(location_list, list):\n",
    "        return None\n",
    "\n",
    "    display_names = []\n",
    "    for location in location_list:\n",
    "        # Check if 'source' exists and is a dictionary\n",
    "        if location and isinstance(location, dict) and 'source' in location and isinstance(location['source'], dict):\n",
    "            # Extract 'display_name' if it exists\n",
    "            display_name = location['source'].get('display_name')\n",
    "            if display_name:\n",
    "                display_names.append(display_name)\n",
    "\n",
    "    return '|'.join(display_names)\n",
    "\n",
    "\n"
   ]
  },
  {
   "cell_type": "code",
   "execution_count": 3,
   "metadata": {},
   "outputs": [
    {
     "data": {
      "text/plain": [
       "30"
      ]
     },
     "execution_count": 3,
     "metadata": {},
     "output_type": "execute_result"
    }
   ],
   "source": [
    "files = glob.glob(\"data/*.json\")\n",
    "len(files)"
   ]
  },
  {
   "cell_type": "code",
   "execution_count": 4,
   "metadata": {},
   "outputs": [],
   "source": [
    "dataframes = []\n",
    "\n",
    "# Loop through the files and append each dataframe to the list\n",
    "for file in files:\n",
    "    df = pd.read_json(file)\n",
    "    dataframes.append(df)\n",
    "\n",
    "# Concatenate all dataframes in the list\n",
    "merged_df = pd.concat(dataframes, ignore_index=True)\n",
    "\n",
    "merged_df = merged_df.sort_values(by='publication_year', ascending=False)\n",
    "\n",
    "# Reset the index after sorting\n",
    "merged_df = merged_df.reset_index(drop=True)"
   ]
  },
  {
   "cell_type": "code",
   "execution_count": 5,
   "metadata": {},
   "outputs": [],
   "source": [
    "merged_df['abstract'] = merged_df['abstract_inverted_index'].apply(reconstruct_abstract)\n",
    "merged_df['authors'] = merged_df['authorships'].apply(extract_author_names)\n",
    "\n",
    "merged_df['publication'] = merged_df['locations'].apply(extract_display_names)\n"
   ]
  },
  {
   "cell_type": "code",
   "execution_count": 6,
   "metadata": {},
   "outputs": [],
   "source": [
    "merged_df.to_csv(\"data/database.csv\")"
   ]
  },
  {
   "cell_type": "code",
   "execution_count": 7,
   "metadata": {},
   "outputs": [
    {
     "data": {
      "text/plain": [
       "Index(['id', 'doi', 'title', 'display_name', 'relevance_score',\n",
       "       'publication_year', 'publication_date', 'ids', 'language',\n",
       "       'primary_location', 'type', 'type_crossref', 'open_access',\n",
       "       'authorships', 'countries_distinct_count',\n",
       "       'institutions_distinct_count', 'corresponding_author_ids',\n",
       "       'corresponding_institution_ids', 'apc_list', 'apc_paid', 'has_fulltext',\n",
       "       'fulltext_origin', 'cited_by_count', 'cited_by_percentile_year',\n",
       "       'biblio', 'is_retracted', 'is_paratext', 'keywords', 'concepts', 'mesh',\n",
       "       'locations_count', 'locations', 'best_oa_location',\n",
       "       'sustainable_development_goals', 'grants', 'referenced_works_count',\n",
       "       'referenced_works', 'related_works', 'ngrams_url',\n",
       "       'abstract_inverted_index', 'cited_by_api_url', 'counts_by_year',\n",
       "       'updated_date', 'created_date', 'abstract', 'authors', 'publication'],\n",
       "      dtype='object')"
      ]
     },
     "execution_count": 7,
     "metadata": {},
     "output_type": "execute_result"
    }
   ],
   "source": [
    "merged_df.columns"
   ]
  },
  {
   "cell_type": "code",
   "execution_count": 8,
   "metadata": {},
   "outputs": [
    {
     "data": {
      "text/plain": [
       "[{'is_oa': False,\n",
       "  'landing_page_url': 'https://doi.org/10.1093/ehr/civ.413.1015',\n",
       "  'pdf_url': None,\n",
       "  'source': {'id': 'https://openalex.org/S56601287',\n",
       "   'display_name': 'The English Historical Review',\n",
       "   'issn_l': '0013-8266',\n",
       "   'issn': ['0013-8266', '1477-4534'],\n",
       "   'is_oa': False,\n",
       "   'is_in_doaj': False,\n",
       "   'host_organization': 'https://openalex.org/P4310311648',\n",
       "   'host_organization_name': 'Oxford University Press',\n",
       "   'host_organization_lineage': ['https://openalex.org/P4310311647',\n",
       "    'https://openalex.org/P4310311648'],\n",
       "   'host_organization_lineage_names': ['University of Oxford',\n",
       "    'Oxford University Press'],\n",
       "   'type': 'journal'},\n",
       "  'license': None,\n",
       "  'version': None,\n",
       "  'is_accepted': False,\n",
       "  'is_published': False}]"
      ]
     },
     "execution_count": 8,
     "metadata": {},
     "output_type": "execute_result"
    }
   ],
   "source": [
    "merged_df.iloc[3][\"locations\"]"
   ]
  },
  {
   "cell_type": "code",
   "execution_count": 9,
   "metadata": {},
   "outputs": [
    {
     "data": {
      "text/plain": [
       "array(['article', 'book-chapter', 'paratext', 'editorial', 'book',\n",
       "       'dissertation', 'letter', 'other', 'erratum', 'report', 'dataset'],\n",
       "      dtype=object)"
      ]
     },
     "execution_count": 9,
     "metadata": {},
     "output_type": "execute_result"
    }
   ],
   "source": [
    "merged_df.type.unique()"
   ]
  },
  {
   "cell_type": "code",
   "execution_count": 10,
   "metadata": {},
   "outputs": [],
   "source": [
    "def load_data():\n",
    "    df = pd.read_csv(\"data/database.csv\")\n",
    "    # List the columns you want to keep, including 'displayname' and 'author_names'\n",
    "    columns_to_keep = [\"title\", \"authors\", \"publication_year\", \"abstract\", \"type\", \"publication\", \"language\", \"doi\"]  # Add other columns as needed\n",
    "\n",
    "    # Select only these columns\n",
    "    df = df[columns_to_keep]\n",
    "\n",
    "    # Rename 'displayname' to 'title' and 'author_names' to 'authors'\n",
    "    df = df.rename(columns={\"publication_year\": \"year\"})\n",
    "\n",
    "    return df\n",
    "\n",
    "df2 = load_data()\n",
    "\n",
    "df2 = df2.drop_duplicates()\n",
    "df2 = df2.reset_index(drop=True)\n",
    "df2.to_parquet(\"data/database.parquet\")"
   ]
  },
  {
   "cell_type": "code",
   "execution_count": 11,
   "metadata": {},
   "outputs": [
    {
     "data": {
      "text/html": [
       "<div>\n",
       "<style scoped>\n",
       "    .dataframe tbody tr th:only-of-type {\n",
       "        vertical-align: middle;\n",
       "    }\n",
       "\n",
       "    .dataframe tbody tr th {\n",
       "        vertical-align: top;\n",
       "    }\n",
       "\n",
       "    .dataframe thead th {\n",
       "        text-align: right;\n",
       "    }\n",
       "</style>\n",
       "<table border=\"1\" class=\"dataframe\">\n",
       "  <thead>\n",
       "    <tr style=\"text-align: right;\">\n",
       "      <th></th>\n",
       "      <th>title</th>\n",
       "      <th>authors</th>\n",
       "      <th>year</th>\n",
       "      <th>abstract</th>\n",
       "      <th>type</th>\n",
       "      <th>publication</th>\n",
       "      <th>language</th>\n",
       "      <th>doi</th>\n",
       "    </tr>\n",
       "  </thead>\n",
       "  <tbody>\n",
       "    <tr>\n",
       "      <th>0</th>\n",
       "      <td>Reputation and Coalitions in Medieval Trade: E...</td>\n",
       "      <td>Avner Greif</td>\n",
       "      <td>1989</td>\n",
       "      <td>This article examines the economic institution...</td>\n",
       "      <td>article</td>\n",
       "      <td>The Journal of Economic History</td>\n",
       "      <td>en</td>\n",
       "      <td>https://doi.org/10.1017/s0022050700009475</td>\n",
       "    </tr>\n",
       "    <tr>\n",
       "      <th>1</th>\n",
       "      <td>Shorter Notices</td>\n",
       "      <td>Brendan Bradshaw</td>\n",
       "      <td>1989</td>\n",
       "      <td>Journal Article Shorter Notices Get access BRE...</td>\n",
       "      <td>article</td>\n",
       "      <td>The English Historical Review</td>\n",
       "      <td>en</td>\n",
       "      <td>https://doi.org/10.1093/ehr/civ.ccccxi.472</td>\n",
       "    </tr>\n",
       "    <tr>\n",
       "      <th>2</th>\n",
       "      <td>Book‐reviews</td>\n",
       "      <td>Tim Winter|Hasan Gai Eaton|Edward J. Lazzerini...</td>\n",
       "      <td>1989</td>\n",
       "      <td>Lisbeth Rocher and Fatima Cherqaoui D'une foi ...</td>\n",
       "      <td>article</td>\n",
       "      <td>Institute of Muslim Minority Affairs</td>\n",
       "      <td>en</td>\n",
       "      <td>https://doi.org/10.1080/02666958908716119</td>\n",
       "    </tr>\n",
       "    <tr>\n",
       "      <th>3</th>\n",
       "      <td>Shorter Notices</td>\n",
       "      <td>MICHAEL BAXANDALL</td>\n",
       "      <td>1989</td>\n",
       "      <td>Shorter Notices Get access MICHAEL BAXANDALL W...</td>\n",
       "      <td>article</td>\n",
       "      <td>The English Historical Review</td>\n",
       "      <td>en</td>\n",
       "      <td>https://doi.org/10.1093/ehr/civ.413.1015</td>\n",
       "    </tr>\n",
       "    <tr>\n",
       "      <th>4</th>\n",
       "      <td>REVIEWS</td>\n",
       "      <td>BRENDA M. BOLTON</td>\n",
       "      <td>1989</td>\n",
       "      <td>NaN</td>\n",
       "      <td>article</td>\n",
       "      <td>The Journal of Theological Studies</td>\n",
       "      <td>NaN</td>\n",
       "      <td>https://doi.org/10.1093/jts/40.1.268</td>\n",
       "    </tr>\n",
       "    <tr>\n",
       "      <th>...</th>\n",
       "      <td>...</td>\n",
       "      <td>...</td>\n",
       "      <td>...</td>\n",
       "      <td>...</td>\n",
       "      <td>...</td>\n",
       "      <td>...</td>\n",
       "      <td>...</td>\n",
       "      <td>...</td>\n",
       "    </tr>\n",
       "    <tr>\n",
       "      <th>133568</th>\n",
       "      <td>REVIEWS</td>\n",
       "      <td>IGNAZ MAYBAUM</td>\n",
       "      <td>1960</td>\n",
       "      <td>NaN</td>\n",
       "      <td>article</td>\n",
       "      <td>Journal of Semitic Studies</td>\n",
       "      <td>NaN</td>\n",
       "      <td>https://doi.org/10.1093/jss/5.2.208</td>\n",
       "    </tr>\n",
       "    <tr>\n",
       "      <th>133569</th>\n",
       "      <td>Back Matter</td>\n",
       "      <td>NaN</td>\n",
       "      <td>1960</td>\n",
       "      <td>Previous article No AccessBack MatterPDFPDF PL...</td>\n",
       "      <td>paratext</td>\n",
       "      <td>Speculum</td>\n",
       "      <td>en</td>\n",
       "      <td>https://doi.org/10.1017/s0038713400131033</td>\n",
       "    </tr>\n",
       "    <tr>\n",
       "      <th>133570</th>\n",
       "      <td>Selected Reference Books of 1958-1959</td>\n",
       "      <td>Constance M. Winchell</td>\n",
       "      <td>1960</td>\n",
       "      <td>NaN</td>\n",
       "      <td>article</td>\n",
       "      <td>College &amp; Research Libraries</td>\n",
       "      <td>en</td>\n",
       "      <td>https://doi.org/10.5860/crl_21_01_20</td>\n",
       "    </tr>\n",
       "    <tr>\n",
       "      <th>133571</th>\n",
       "      <td>REVIEWS</td>\n",
       "      <td>O. K. SCHRAM</td>\n",
       "      <td>1960</td>\n",
       "      <td>Journal Article REVIEWS Get access The Old Eng...</td>\n",
       "      <td>article</td>\n",
       "      <td>The Review of English Studies</td>\n",
       "      <td>en</td>\n",
       "      <td>https://doi.org/10.1093/res/xi.42.194</td>\n",
       "    </tr>\n",
       "    <tr>\n",
       "      <th>133572</th>\n",
       "      <td>Skills and Techniques for Reading French</td>\n",
       "      <td>Francis W. Nachtmann|Louise C. Seiberg|Lester ...</td>\n",
       "      <td>1960</td>\n",
       "      <td>NaN</td>\n",
       "      <td>article</td>\n",
       "      <td>The Modern Language Journal</td>\n",
       "      <td>en</td>\n",
       "      <td>https://doi.org/10.2307/320556</td>\n",
       "    </tr>\n",
       "  </tbody>\n",
       "</table>\n",
       "<p>133573 rows × 8 columns</p>\n",
       "</div>"
      ],
      "text/plain": [
       "                                                    title  \\\n",
       "0       Reputation and Coalitions in Medieval Trade: E...   \n",
       "1                                         Shorter Notices   \n",
       "2                                            Book‐reviews   \n",
       "3                                         Shorter Notices   \n",
       "4                                                 REVIEWS   \n",
       "...                                                   ...   \n",
       "133568                                            REVIEWS   \n",
       "133569                                        Back Matter   \n",
       "133570              Selected Reference Books of 1958-1959   \n",
       "133571                                            REVIEWS   \n",
       "133572           Skills and Techniques for Reading French   \n",
       "\n",
       "                                                  authors  year  \\\n",
       "0                                             Avner Greif  1989   \n",
       "1                                        Brendan Bradshaw  1989   \n",
       "2       Tim Winter|Hasan Gai Eaton|Edward J. Lazzerini...  1989   \n",
       "3                                       MICHAEL BAXANDALL  1989   \n",
       "4                                        BRENDA M. BOLTON  1989   \n",
       "...                                                   ...   ...   \n",
       "133568                                      IGNAZ MAYBAUM  1960   \n",
       "133569                                                NaN  1960   \n",
       "133570                              Constance M. Winchell  1960   \n",
       "133571                                       O. K. SCHRAM  1960   \n",
       "133572  Francis W. Nachtmann|Louise C. Seiberg|Lester ...  1960   \n",
       "\n",
       "                                                 abstract      type  \\\n",
       "0       This article examines the economic institution...   article   \n",
       "1       Journal Article Shorter Notices Get access BRE...   article   \n",
       "2       Lisbeth Rocher and Fatima Cherqaoui D'une foi ...   article   \n",
       "3       Shorter Notices Get access MICHAEL BAXANDALL W...   article   \n",
       "4                                                     NaN   article   \n",
       "...                                                   ...       ...   \n",
       "133568                                                NaN   article   \n",
       "133569  Previous article No AccessBack MatterPDFPDF PL...  paratext   \n",
       "133570                                                NaN   article   \n",
       "133571  Journal Article REVIEWS Get access The Old Eng...   article   \n",
       "133572                                                NaN   article   \n",
       "\n",
       "                                 publication language  \\\n",
       "0            The Journal of Economic History       en   \n",
       "1              The English Historical Review       en   \n",
       "2       Institute of Muslim Minority Affairs       en   \n",
       "3              The English Historical Review       en   \n",
       "4         The Journal of Theological Studies      NaN   \n",
       "...                                      ...      ...   \n",
       "133568            Journal of Semitic Studies      NaN   \n",
       "133569                              Speculum       en   \n",
       "133570          College & Research Libraries       en   \n",
       "133571         The Review of English Studies       en   \n",
       "133572           The Modern Language Journal       en   \n",
       "\n",
       "                                               doi  \n",
       "0        https://doi.org/10.1017/s0022050700009475  \n",
       "1       https://doi.org/10.1093/ehr/civ.ccccxi.472  \n",
       "2        https://doi.org/10.1080/02666958908716119  \n",
       "3         https://doi.org/10.1093/ehr/civ.413.1015  \n",
       "4             https://doi.org/10.1093/jts/40.1.268  \n",
       "...                                            ...  \n",
       "133568         https://doi.org/10.1093/jss/5.2.208  \n",
       "133569   https://doi.org/10.1017/s0038713400131033  \n",
       "133570        https://doi.org/10.5860/crl_21_01_20  \n",
       "133571       https://doi.org/10.1093/res/xi.42.194  \n",
       "133572              https://doi.org/10.2307/320556  \n",
       "\n",
       "[133573 rows x 8 columns]"
      ]
     },
     "execution_count": 11,
     "metadata": {},
     "output_type": "execute_result"
    }
   ],
   "source": [
    "df2"
   ]
  },
  {
   "cell_type": "code",
   "execution_count": 12,
   "metadata": {},
   "outputs": [
    {
     "data": {
      "text/plain": [
       "7355"
      ]
     },
     "execution_count": 12,
     "metadata": {},
     "output_type": "execute_result"
    }
   ],
   "source": [
    "len(df2.publication.unique())"
   ]
  },
  {
   "cell_type": "code",
   "execution_count": 13,
   "metadata": {},
   "outputs": [
    {
     "data": {
      "text/plain": [
       "array(['en', nan, 'de', 'it', 'es', 'fr', 'af', 'ro', 'ca', 'lt', 'sv',\n",
       "       'cy', 'et', 'el', 'hu', 'lv', 'pl', 'nl', 'pt', 'tl', 'no', 'vi',\n",
       "       'sw', 'da', 'ar', 'ru', 'id', 'fi', 'sl', 'ja', 'sq', 'hr', 'cs',\n",
       "       'sk', 'tr', 'so', 'fa', 'ko', 'he'], dtype=object)"
      ]
     },
     "execution_count": 13,
     "metadata": {},
     "output_type": "execute_result"
    }
   ],
   "source": [
    "df2.language.unique()"
   ]
  },
  {
   "cell_type": "code",
   "execution_count": null,
   "metadata": {},
   "outputs": [],
   "source": []
  }
 ],
 "metadata": {
  "kernelspec": {
   "display_name": "mena",
   "language": "python",
   "name": "python3"
  },
  "language_info": {
   "codemirror_mode": {
    "name": "ipython",
    "version": 3
   },
   "file_extension": ".py",
   "mimetype": "text/x-python",
   "name": "python",
   "nbconvert_exporter": "python",
   "pygments_lexer": "ipython3",
   "version": "3.10.13"
  }
 },
 "nbformat": 4,
 "nbformat_minor": 2
}
