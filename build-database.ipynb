{
 "cells": [
  {
   "cell_type": "code",
   "execution_count": 1,
   "metadata": {},
   "outputs": [],
   "source": [
    "import json\n",
    "import pandas as pd\n",
    "import glob"
   ]
  },
  {
   "cell_type": "code",
   "execution_count": 2,
   "metadata": {},
   "outputs": [],
   "source": [
    "def reconstruct_abstract(inverted_index):\n",
    "    if inverted_index is None:\n",
    "        return None\n",
    "    else:\n",
    "        # Create a list of tuples, each containing a word and its first occurrence index\n",
    "        word_positions = [(word, positions[0]) for word, positions in inverted_index.items()]\n",
    "\n",
    "        # Sort the tuples based on the index\n",
    "        sorted_words = sorted(word_positions, key=lambda x: x[1])\n",
    "\n",
    "        # Extract the sorted words\n",
    "        sorted_words_only = [word for word, position in sorted_words]\n",
    "\n",
    "        # Join the words into a single string\n",
    "        abstract = ' '.join(sorted_words_only)\n",
    "\n",
    "        return abstract\n",
    "    \n",
    "def extract_author_names(author_list):\n",
    "    # Extract 'display_name' from each dictionary in the list\n",
    "    author_names = [author['author']['display_name'] for author in author_list if 'author' in author and 'display_name' in author['author']]\n",
    "    \n",
    "    # Join the names with '|'\n",
    "    return '|'.join(author_names)\n",
    "\n",
    "def extract_display_names(location_list):\n",
    "    if location_list is None or not isinstance(location_list, list):\n",
    "        return None\n",
    "\n",
    "    display_names = []\n",
    "    for location in location_list:\n",
    "        # Check if 'source' exists and is a dictionary\n",
    "        if location and isinstance(location, dict) and 'source' in location and isinstance(location['source'], dict):\n",
    "            # Extract 'display_name' if it exists\n",
    "            display_name = location['source'].get('display_name')\n",
    "            if display_name:\n",
    "                display_names.append(display_name)\n",
    "\n",
    "    return '|'.join(display_names)\n",
    "\n",
    "\n"
   ]
  },
  {
   "cell_type": "code",
   "execution_count": 3,
   "metadata": {},
   "outputs": [
    {
     "data": {
      "text/plain": [
       "39"
      ]
     },
     "execution_count": 3,
     "metadata": {},
     "output_type": "execute_result"
    }
   ],
   "source": [
    "files = glob.glob(\"data/*.json\")\n",
    "len(files)"
   ]
  },
  {
   "cell_type": "code",
   "execution_count": 4,
   "metadata": {},
   "outputs": [],
   "source": [
    "dataframes = []\n",
    "\n",
    "# Loop through the files and append each dataframe to the list\n",
    "for file in files:\n",
    "    df = pd.read_json(file)\n",
    "    dataframes.append(df)\n",
    "\n",
    "# Concatenate all dataframes in the list\n",
    "merged_df = pd.concat(dataframes, ignore_index=True)\n",
    "\n",
    "merged_df = merged_df.sort_values(by='publication_year', ascending=False)\n",
    "\n",
    "# Reset the index after sorting\n",
    "merged_df = merged_df.reset_index(drop=True)"
   ]
  },
  {
   "cell_type": "code",
   "execution_count": 5,
   "metadata": {},
   "outputs": [],
   "source": [
    "merged_df['abstract'] = merged_df['abstract_inverted_index'].apply(reconstruct_abstract)\n",
    "merged_df['authors'] = merged_df['authorships'].apply(extract_author_names)\n",
    "\n",
    "merged_df['publication'] = merged_df['locations'].apply(extract_display_names)\n"
   ]
  },
  {
   "cell_type": "code",
   "execution_count": 6,
   "metadata": {},
   "outputs": [],
   "source": [
    "merged_df.to_csv(\"data/database.csv\")"
   ]
  },
  {
   "cell_type": "code",
   "execution_count": 7,
   "metadata": {},
   "outputs": [
    {
     "data": {
      "text/plain": [
       "Index(['id', 'doi', 'title', 'display_name', 'relevance_score',\n",
       "       'publication_year', 'publication_date', 'ids', 'language',\n",
       "       'primary_location', 'type', 'type_crossref', 'open_access',\n",
       "       'authorships', 'countries_distinct_count',\n",
       "       'institutions_distinct_count', 'corresponding_author_ids',\n",
       "       'corresponding_institution_ids', 'apc_list', 'apc_paid', 'has_fulltext',\n",
       "       'fulltext_origin', 'cited_by_count', 'cited_by_percentile_year',\n",
       "       'biblio', 'is_retracted', 'is_paratext', 'keywords', 'concepts', 'mesh',\n",
       "       'locations_count', 'locations', 'best_oa_location',\n",
       "       'sustainable_development_goals', 'grants', 'referenced_works_count',\n",
       "       'referenced_works', 'related_works', 'ngrams_url',\n",
       "       'abstract_inverted_index', 'cited_by_api_url', 'counts_by_year',\n",
       "       'updated_date', 'created_date', 'abstract', 'authors', 'publication'],\n",
       "      dtype='object')"
      ]
     },
     "execution_count": 7,
     "metadata": {},
     "output_type": "execute_result"
    }
   ],
   "source": [
    "merged_df.columns"
   ]
  },
  {
   "cell_type": "code",
   "execution_count": 8,
   "metadata": {},
   "outputs": [
    {
     "data": {
      "text/plain": [
       "[{'is_oa': False,\n",
       "  'landing_page_url': 'https://doi.org/10.2307/4053617',\n",
       "  'pdf_url': None,\n",
       "  'source': {'id': 'https://openalex.org/S58239531',\n",
       "   'display_name': 'Albion',\n",
       "   'issn_l': '0095-1390',\n",
       "   'issn': ['0095-1390', '2326-1242'],\n",
       "   'is_oa': False,\n",
       "   'is_in_doaj': False,\n",
       "   'host_organization': 'https://openalex.org/P4310316456',\n",
       "   'host_organization_name': 'Appalachian State University',\n",
       "   'host_organization_lineage': ['https://openalex.org/P4310316456'],\n",
       "   'host_organization_lineage_names': ['Appalachian State University'],\n",
       "   'type': 'journal'},\n",
       "  'license': None,\n",
       "  'version': None,\n",
       "  'is_accepted': False,\n",
       "  'is_published': False}]"
      ]
     },
     "execution_count": 8,
     "metadata": {},
     "output_type": "execute_result"
    }
   ],
   "source": [
    "merged_df.iloc[3][\"locations\"]"
   ]
  },
  {
   "cell_type": "code",
   "execution_count": 9,
   "metadata": {},
   "outputs": [
    {
     "data": {
      "text/plain": [
       "array(['article', 'book-chapter', 'book', 'dissertation', 'editorial',\n",
       "       'other', 'paratext', 'erratum', 'report', 'letter', 'dataset'],\n",
       "      dtype=object)"
      ]
     },
     "execution_count": 9,
     "metadata": {},
     "output_type": "execute_result"
    }
   ],
   "source": [
    "merged_df.type.unique()"
   ]
  },
  {
   "cell_type": "code",
   "execution_count": 10,
   "metadata": {},
   "outputs": [],
   "source": [
    "def load_data():\n",
    "    df = pd.read_csv(\"data/database.csv\")\n",
    "    # List the columns you want to keep, including 'displayname' and 'author_names'\n",
    "    columns_to_keep = [\"title\", \"authors\", \"publication_year\", \"abstract\", \"type\", \"publication\", \"language\", \"doi\"]  # Add other columns as needed\n",
    "\n",
    "    # Select only these columns\n",
    "    df = df[columns_to_keep]\n",
    "\n",
    "    # Rename 'displayname' to 'title' and 'author_names' to 'authors'\n",
    "    df = df.rename(columns={\"publication_year\": \"year\"})\n",
    "\n",
    "    return df\n",
    "\n",
    "df2 = load_data()\n",
    "\n",
    "df2 = df2.drop_duplicates()\n",
    "df2 = df2.reset_index(drop=True)\n",
    "df2.to_parquet(\"data/database.parquet\")"
   ]
  },
  {
   "cell_type": "code",
   "execution_count": 11,
   "metadata": {},
   "outputs": [
    {
     "data": {
      "text/html": [
       "<div>\n",
       "<style scoped>\n",
       "    .dataframe tbody tr th:only-of-type {\n",
       "        vertical-align: middle;\n",
       "    }\n",
       "\n",
       "    .dataframe tbody tr th {\n",
       "        vertical-align: top;\n",
       "    }\n",
       "\n",
       "    .dataframe thead th {\n",
       "        text-align: right;\n",
       "    }\n",
       "</style>\n",
       "<table border=\"1\" class=\"dataframe\">\n",
       "  <thead>\n",
       "    <tr style=\"text-align: right;\">\n",
       "      <th></th>\n",
       "      <th>title</th>\n",
       "      <th>authors</th>\n",
       "      <th>year</th>\n",
       "      <th>abstract</th>\n",
       "      <th>type</th>\n",
       "      <th>publication</th>\n",
       "      <th>language</th>\n",
       "      <th>doi</th>\n",
       "    </tr>\n",
       "  </thead>\n",
       "  <tbody>\n",
       "    <tr>\n",
       "      <th>0</th>\n",
       "      <td>METAPSICOLOGIA DO PERDÃO</td>\n",
       "      <td>José Luiz Caon</td>\n",
       "      <td>1998</td>\n",
       "      <td>SÍNTESE - O autor serve-se de dois textos Sófo...</td>\n",
       "      <td>article</td>\n",
       "      <td>Veritas</td>\n",
       "      <td>pt</td>\n",
       "      <td>https://doi.org/10.15448/1984-6746.1998.1.35394</td>\n",
       "    </tr>\n",
       "    <tr>\n",
       "      <th>1</th>\n",
       "      <td>A Book Made New: Reading Propertius Reading Po...</td>\n",
       "      <td>Michael Comber</td>\n",
       "      <td>1998</td>\n",
       "      <td>In situations in which understanding is disrup...</td>\n",
       "      <td>article</td>\n",
       "      <td>Journal of Roman Studies</td>\n",
       "      <td>en</td>\n",
       "      <td>https://doi.org/10.1017/s0075435800044105</td>\n",
       "    </tr>\n",
       "    <tr>\n",
       "      <th>2</th>\n",
       "      <td>Summary of the spring 1998 meeting of the work...</td>\n",
       "      <td>Trina Arpin|Richard I. Macphail|Giovanni Boschian</td>\n",
       "      <td>1998</td>\n",
       "      <td>GeoarchaeologyVolume 13, Issue 6 p. 645-647 Co...</td>\n",
       "      <td>article</td>\n",
       "      <td>Geoarchaeology-An International Journal</td>\n",
       "      <td>en</td>\n",
       "      <td>https://doi.org/10.1002/(sici)1520-6548(199808...</td>\n",
       "    </tr>\n",
       "    <tr>\n",
       "      <th>3</th>\n",
       "      <td>The Wars of the Bruces: Scotland, England, and...</td>\n",
       "      <td>John McCafferty|Colm McNamee</td>\n",
       "      <td>1998</td>\n",
       "      <td>An abstract is not available for this content ...</td>\n",
       "      <td>article</td>\n",
       "      <td>Albion</td>\n",
       "      <td>en</td>\n",
       "      <td>https://doi.org/10.2307/4053617</td>\n",
       "    </tr>\n",
       "    <tr>\n",
       "      <th>4</th>\n",
       "      <td>The Caspian's False Promise</td>\n",
       "      <td>Martha Brill Olcott</td>\n",
       "      <td>1998</td>\n",
       "      <td>NaN</td>\n",
       "      <td>article</td>\n",
       "      <td>Foreign Policy</td>\n",
       "      <td>en</td>\n",
       "      <td>https://doi.org/10.2307/1149381</td>\n",
       "    </tr>\n",
       "    <tr>\n",
       "      <th>...</th>\n",
       "      <td>...</td>\n",
       "      <td>...</td>\n",
       "      <td>...</td>\n",
       "      <td>...</td>\n",
       "      <td>...</td>\n",
       "      <td>...</td>\n",
       "      <td>...</td>\n",
       "      <td>...</td>\n",
       "    </tr>\n",
       "    <tr>\n",
       "      <th>216411</th>\n",
       "      <td>Illustrations of the History of Medieval Thoug...</td>\n",
       "      <td>Reginald L. Poole</td>\n",
       "      <td>1960</td>\n",
       "      <td>NaN</td>\n",
       "      <td>book</td>\n",
       "      <td>NaN</td>\n",
       "      <td>en</td>\n",
       "      <td>NaN</td>\n",
       "    </tr>\n",
       "    <tr>\n",
       "      <th>216412</th>\n",
       "      <td>Incomes of Medieval English Doctors</td>\n",
       "      <td>Hammond Ea</td>\n",
       "      <td>1960</td>\n",
       "      <td>Journal Article Incomes of Medieval English Do...</td>\n",
       "      <td>article</td>\n",
       "      <td>Journal of the History of Medicine and Allied ...</td>\n",
       "      <td>en</td>\n",
       "      <td>https://doi.org/10.1093/jhmas/xv.2.154</td>\n",
       "    </tr>\n",
       "    <tr>\n",
       "      <th>216413</th>\n",
       "      <td>Early Medieval Trade Routes</td>\n",
       "      <td>NaN</td>\n",
       "      <td>1960</td>\n",
       "      <td>THE techniques and methodology of numismatics ...</td>\n",
       "      <td>article</td>\n",
       "      <td>The American Historical Review</td>\n",
       "      <td>en</td>\n",
       "      <td>https://doi.org/10.1086/ahr/65.2.271</td>\n",
       "    </tr>\n",
       "    <tr>\n",
       "      <th>216414</th>\n",
       "      <td>Book Notes</td>\n",
       "      <td>NaN</td>\n",
       "      <td>1960</td>\n",
       "      <td>NaN</td>\n",
       "      <td>article</td>\n",
       "      <td>American Sociological Review</td>\n",
       "      <td>NaN</td>\n",
       "      <td>https://doi.org/10.2307/2092118</td>\n",
       "    </tr>\n",
       "    <tr>\n",
       "      <th>216415</th>\n",
       "      <td>Harvey P. Hall and Ann W. Noyes (ed.): Current...</td>\n",
       "      <td>J. D. P.</td>\n",
       "      <td>1960</td>\n",
       "      <td>Harvey P. Hall and Ann W. Noyes (ed.): Current...</td>\n",
       "      <td>article</td>\n",
       "      <td>Bulletin of the School of Oriental and African...</td>\n",
       "      <td>en</td>\n",
       "      <td>https://doi.org/10.1017/s0041977x00150281</td>\n",
       "    </tr>\n",
       "  </tbody>\n",
       "</table>\n",
       "<p>216416 rows × 8 columns</p>\n",
       "</div>"
      ],
      "text/plain": [
       "                                                    title  \\\n",
       "0                                METAPSICOLOGIA DO PERDÃO   \n",
       "1       A Book Made New: Reading Propertius Reading Po...   \n",
       "2       Summary of the spring 1998 meeting of the work...   \n",
       "3       The Wars of the Bruces: Scotland, England, and...   \n",
       "4                             The Caspian's False Promise   \n",
       "...                                                   ...   \n",
       "216411  Illustrations of the History of Medieval Thoug...   \n",
       "216412                Incomes of Medieval English Doctors   \n",
       "216413                        Early Medieval Trade Routes   \n",
       "216414                                         Book Notes   \n",
       "216415  Harvey P. Hall and Ann W. Noyes (ed.): Current...   \n",
       "\n",
       "                                                  authors  year  \\\n",
       "0                                          José Luiz Caon  1998   \n",
       "1                                          Michael Comber  1998   \n",
       "2       Trina Arpin|Richard I. Macphail|Giovanni Boschian  1998   \n",
       "3                            John McCafferty|Colm McNamee  1998   \n",
       "4                                     Martha Brill Olcott  1998   \n",
       "...                                                   ...   ...   \n",
       "216411                                  Reginald L. Poole  1960   \n",
       "216412                                         Hammond Ea  1960   \n",
       "216413                                                NaN  1960   \n",
       "216414                                                NaN  1960   \n",
       "216415                                           J. D. P.  1960   \n",
       "\n",
       "                                                 abstract     type  \\\n",
       "0       SÍNTESE - O autor serve-se de dois textos Sófo...  article   \n",
       "1       In situations in which understanding is disrup...  article   \n",
       "2       GeoarchaeologyVolume 13, Issue 6 p. 645-647 Co...  article   \n",
       "3       An abstract is not available for this content ...  article   \n",
       "4                                                     NaN  article   \n",
       "...                                                   ...      ...   \n",
       "216411                                                NaN     book   \n",
       "216412  Journal Article Incomes of Medieval English Do...  article   \n",
       "216413  THE techniques and methodology of numismatics ...  article   \n",
       "216414                                                NaN  article   \n",
       "216415  Harvey P. Hall and Ann W. Noyes (ed.): Current...  article   \n",
       "\n",
       "                                              publication language  \\\n",
       "0                                                 Veritas       pt   \n",
       "1                                Journal of Roman Studies       en   \n",
       "2                 Geoarchaeology-An International Journal       en   \n",
       "3                                                  Albion       en   \n",
       "4                                          Foreign Policy       en   \n",
       "...                                                   ...      ...   \n",
       "216411                                                NaN       en   \n",
       "216412  Journal of the History of Medicine and Allied ...       en   \n",
       "216413                     The American Historical Review       en   \n",
       "216414                       American Sociological Review      NaN   \n",
       "216415  Bulletin of the School of Oriental and African...       en   \n",
       "\n",
       "                                                      doi  \n",
       "0         https://doi.org/10.15448/1984-6746.1998.1.35394  \n",
       "1               https://doi.org/10.1017/s0075435800044105  \n",
       "2       https://doi.org/10.1002/(sici)1520-6548(199808...  \n",
       "3                         https://doi.org/10.2307/4053617  \n",
       "4                         https://doi.org/10.2307/1149381  \n",
       "...                                                   ...  \n",
       "216411                                                NaN  \n",
       "216412             https://doi.org/10.1093/jhmas/xv.2.154  \n",
       "216413               https://doi.org/10.1086/ahr/65.2.271  \n",
       "216414                    https://doi.org/10.2307/2092118  \n",
       "216415          https://doi.org/10.1017/s0041977x00150281  \n",
       "\n",
       "[216416 rows x 8 columns]"
      ]
     },
     "execution_count": 11,
     "metadata": {},
     "output_type": "execute_result"
    }
   ],
   "source": [
    "df2"
   ]
  },
  {
   "cell_type": "code",
   "execution_count": 12,
   "metadata": {},
   "outputs": [
    {
     "data": {
      "text/plain": [
       "11850"
      ]
     },
     "execution_count": 12,
     "metadata": {},
     "output_type": "execute_result"
    }
   ],
   "source": [
    "len(df2.publication.unique())"
   ]
  },
  {
   "cell_type": "code",
   "execution_count": 13,
   "metadata": {},
   "outputs": [
    {
     "data": {
      "text/plain": [
       "array(['pt', 'en', 'fr', 'de', nan, 'it', 'es', 'nl', 'ro', 'no', 'et',\n",
       "       'ca', 'af', 'so', 'sv', 'tl', 'vi', 'hr', 'sl', 'pl', 'da', 'hu',\n",
       "       'lt', 'id', 'tr', 'lv', 'cy', 'el', 'bg', 'he', 'fi', 'fa', 'sk',\n",
       "       'sw', 'cs', 'ml', 'sq', 'ru', 'zh-cn', 'ar', 'ja', 'ko'],\n",
       "      dtype=object)"
      ]
     },
     "execution_count": 13,
     "metadata": {},
     "output_type": "execute_result"
    }
   ],
   "source": [
    "df2.language.unique()"
   ]
  },
  {
   "cell_type": "code",
   "execution_count": null,
   "metadata": {},
   "outputs": [],
   "source": []
  }
 ],
 "metadata": {
  "kernelspec": {
   "display_name": "mena",
   "language": "python",
   "name": "python3"
  },
  "language_info": {
   "codemirror_mode": {
    "name": "ipython",
    "version": 3
   },
   "file_extension": ".py",
   "mimetype": "text/x-python",
   "name": "python",
   "nbconvert_exporter": "python",
   "pygments_lexer": "ipython3",
   "version": "3.10.13"
  }
 },
 "nbformat": 4,
 "nbformat_minor": 2
}
