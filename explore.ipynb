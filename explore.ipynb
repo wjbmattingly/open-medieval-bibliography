{
 "cells": [
  {
   "cell_type": "code",
   "execution_count": 80,
   "metadata": {},
   "outputs": [],
   "source": [
    "import pandas as pd\n",
    "from pyalex import Works, Authors, Sources, Institutions, Concepts, Publishers, Funders\n",
    "from tqdm import tqdm\n",
    "from itertools import chain\n",
    "import json\n",
    "from requests.exceptions import ConnectionError\n"
   ]
  },
  {
   "cell_type": "code",
   "execution_count": 3,
   "metadata": {},
   "outputs": [
    {
     "name": "stderr",
     "output_type": "stream",
     "text": [
      "/var/folders/4f/ddlj81h90_n0_h5wwvjbd2b40000gn/T/ipykernel_82409/898392114.py:1: DtypeWarning: Columns (12) have mixed types. Specify dtype option on import or set low_memory=False.\n",
      "  df = pd.read_csv(\"data/works-2023-11-10T17-54-33.csv\")\n"
     ]
    }
   ],
   "source": [
    "df = pd.read_csv(\"data/works-2023-11-10T17-54-33.csv\")"
   ]
  },
  {
   "cell_type": "code",
   "execution_count": 4,
   "metadata": {},
   "outputs": [
    {
     "data": {
      "text/plain": [
       "Index(['id', 'display_name', 'publication_date', 'relevance_score',\n",
       "       'primary_location_id', 'primary_location_display_name',\n",
       "       'primary_location_host_organization', 'primary_location_issns',\n",
       "       'primary_location_issn_l', 'primary_location_type',\n",
       "       'primary_location_landing_page_url', 'primary_location_pdf_url',\n",
       "       'primary_location_is_oa', 'primary_location_version',\n",
       "       'primary_location_license', 'author_ids', 'author_names',\n",
       "       'author_orcids', 'author_institution_ids', 'author_institution_names',\n",
       "       'is_oa', 'oa_status', 'oa_url', 'cited_by_count', 'doi', 'mag', 'pmid',\n",
       "       'pmcid', 'publication_year', 'cited_by_api_url', 'type', 'is_paratext',\n",
       "       'is_retracted', 'biblio_issue', 'biblio_first_page', 'biblio_volume',\n",
       "       'biblio_last_page', 'referenced_works', 'related_works', 'concept_ids'],\n",
       "      dtype='object')"
      ]
     },
     "execution_count": 4,
     "metadata": {},
     "output_type": "execute_result"
    }
   ],
   "source": [
    "df.columns"
   ]
  },
  {
   "cell_type": "code",
   "execution_count": 9,
   "metadata": {},
   "outputs": [
    {
     "data": {
      "text/plain": [
       "id                                                     https://openalex.org/W4205869927\n",
       "display_name                                           Medieval Canon Law: Introduction\n",
       "publication_date                                                             2022-01-27\n",
       "relevance_score                                                               206.85774\n",
       "primary_location_id                                    https://openalex.org/S4306462995\n",
       "primary_location_display_name                         Cambridge University Press eBooks\n",
       "primary_location_host_organization                                                  NaN\n",
       "primary_location_issns                                                              NaN\n",
       "primary_location_issn_l                                                             NaN\n",
       "primary_location_type                                                    ebook platform\n",
       "primary_location_landing_page_url             https://doi.org/10.1017/9781139177221.001\n",
       "primary_location_pdf_url                                                            NaN\n",
       "primary_location_is_oa                                                            False\n",
       "primary_location_version                                                            NaN\n",
       "primary_location_license                                                            NaN\n",
       "author_ids                            https://openalex.org/A5052737815|https://opena...\n",
       "author_names                                                 John C. Wei|Anders Winroth\n",
       "author_orcids                                    |https://orcid.org/0000-0003-3291-1119\n",
       "author_institution_ids                                 |https://openalex.org/I184942183\n",
       "author_institution_names                                            |University of Oslo\n",
       "is_oa                                                                             False\n",
       "oa_status                                                                        closed\n",
       "oa_url                                                                              NaN\n",
       "cited_by_count                                                                       14\n",
       "doi                                           https://doi.org/10.1017/9781139177221.001\n",
       "mag                                                                                 NaN\n",
       "pmid                                                                                NaN\n",
       "pmcid                                                                               NaN\n",
       "publication_year                                                                   2022\n",
       "cited_by_api_url                      https://api.openalex.org/works?filter=cites:W4...\n",
       "type                                                                       book-chapter\n",
       "is_paratext                                                                       False\n",
       "is_retracted                                                                      False\n",
       "biblio_issue                                                                        NaN\n",
       "biblio_first_page                                                                     1\n",
       "biblio_volume                                                                       NaN\n",
       "biblio_last_page                                                                      8\n",
       "referenced_works                                                                    NaN\n",
       "related_works                         https://openalex.org/W4313451314|https://opena...\n",
       "concept_ids                           https://openalex.org/C54707276|https://openale...\n",
       "Name: 0, dtype: object"
      ]
     },
     "execution_count": 9,
     "metadata": {},
     "output_type": "execute_result"
    }
   ],
   "source": [
    "df.iloc[0]"
   ]
  },
  {
   "cell_type": "code",
   "execution_count": 10,
   "metadata": {},
   "outputs": [
    {
     "data": {
      "text/plain": [
       "'https://openalex.org/W4205869927'"
      ]
     },
     "execution_count": 10,
     "metadata": {},
     "output_type": "execute_result"
    }
   ],
   "source": [
    "df.iloc[0].id"
   ]
  },
  {
   "cell_type": "code",
   "execution_count": 29,
   "metadata": {},
   "outputs": [
    {
     "name": "stderr",
     "output_type": "stream",
     "text": [
      "  0%|          | 7/24502 [01:05<64:03:52,  9.42s/it] \n"
     ]
    },
    {
     "ename": "KeyboardInterrupt",
     "evalue": "",
     "output_type": "error",
     "traceback": [
      "\u001b[0;31m---------------------------------------------------------------------------\u001b[0m",
      "\u001b[0;31mKeyboardInterrupt\u001b[0m                         Traceback (most recent call last)",
      "\u001b[1;32m/Users/wjbmattingly/projects/medieval/open-medieval-bibliography/explore.ipynb Cell 6\u001b[0m line \u001b[0;36m5\n\u001b[1;32m      <a href='vscode-notebook-cell:/Users/wjbmattingly/projects/medieval/open-medieval-bibliography/explore.ipynb#X13sZmlsZQ%3D%3D?line=2'>3</a>\u001b[0m \u001b[39mfor\u001b[39;00m index, row \u001b[39min\u001b[39;00m tqdm(df\u001b[39m.\u001b[39miterrows(), total\u001b[39m=\u001b[39m\u001b[39mlen\u001b[39m(df)):\n\u001b[1;32m      <a href='vscode-notebook-cell:/Users/wjbmattingly/projects/medieval/open-medieval-bibliography/explore.ipynb#X13sZmlsZQ%3D%3D?line=3'>4</a>\u001b[0m     \u001b[39mtry\u001b[39;00m:\n\u001b[0;32m----> <a href='vscode-notebook-cell:/Users/wjbmattingly/projects/medieval/open-medieval-bibliography/explore.ipynb#X13sZmlsZQ%3D%3D?line=4'>5</a>\u001b[0m         work \u001b[39m=\u001b[39m Works()[row\u001b[39m.\u001b[39;49mid]\n\u001b[1;32m      <a href='vscode-notebook-cell:/Users/wjbmattingly/projects/medieval/open-medieval-bibliography/explore.ipynb#X13sZmlsZQ%3D%3D?line=5'>6</a>\u001b[0m         \u001b[39mif\u001b[39;00m \u001b[39m\"\u001b[39m\u001b[39mabstract_inverted_index\u001b[39m\u001b[39m\"\u001b[39m \u001b[39min\u001b[39;00m work:\n\u001b[1;32m      <a href='vscode-notebook-cell:/Users/wjbmattingly/projects/medieval/open-medieval-bibliography/explore.ipynb#X13sZmlsZQ%3D%3D?line=6'>7</a>\u001b[0m             abstract \u001b[39m=\u001b[39m reconstruct_abstract(work[\u001b[39m\"\u001b[39m\u001b[39mabstract_inverted_index\u001b[39m\u001b[39m\"\u001b[39m])\n",
      "File \u001b[0;32m/Applications/anaconda3/envs/mena/lib/python3.10/site-packages/pyalex/api.py:193\u001b[0m, in \u001b[0;36mBaseOpenAlex.__getitem__\u001b[0;34m(self, record_id)\u001b[0m\n\u001b[1;32m    190\u001b[0m \u001b[39mif\u001b[39;00m \u001b[39misinstance\u001b[39m(record_id, \u001b[39mlist\u001b[39m):\n\u001b[1;32m    191\u001b[0m     \u001b[39mreturn\u001b[39;00m \u001b[39mself\u001b[39m\u001b[39m.\u001b[39m_get_multi_items(record_id)\n\u001b[0;32m--> 193\u001b[0m \u001b[39mreturn\u001b[39;00m \u001b[39mself\u001b[39;49m\u001b[39m.\u001b[39;49m_get_from_url(\n\u001b[1;32m    194\u001b[0m     \u001b[39mself\u001b[39;49m\u001b[39m.\u001b[39;49m_full_collection_name() \u001b[39m+\u001b[39;49m \u001b[39m\"\u001b[39;49m\u001b[39m/\u001b[39;49m\u001b[39m\"\u001b[39;49m \u001b[39m+\u001b[39;49m record_id, return_meta\u001b[39m=\u001b[39;49m\u001b[39mFalse\u001b[39;49;00m\n\u001b[1;32m    195\u001b[0m )\n",
      "File \u001b[0;32m/Applications/anaconda3/envs/mena/lib/python3.10/site-packages/pyalex/api.py:227\u001b[0m, in \u001b[0;36mBaseOpenAlex._get_from_url\u001b[0;34m(self, url, return_meta)\u001b[0m\n\u001b[1;32m    224\u001b[0m \u001b[39mdef\u001b[39;00m \u001b[39m_get_from_url\u001b[39m(\u001b[39mself\u001b[39m, url, return_meta\u001b[39m=\u001b[39m\u001b[39mFalse\u001b[39;00m):\n\u001b[1;32m    225\u001b[0m     params \u001b[39m=\u001b[39m {\u001b[39m\"\u001b[39m\u001b[39mapi_key\u001b[39m\u001b[39m\"\u001b[39m: config\u001b[39m.\u001b[39mapi_key} \u001b[39mif\u001b[39;00m config\u001b[39m.\u001b[39mapi_key \u001b[39melse\u001b[39;00m {}\n\u001b[0;32m--> 227\u001b[0m     res \u001b[39m=\u001b[39m _get_requests_session()\u001b[39m.\u001b[39;49mget(\n\u001b[1;32m    228\u001b[0m         url,\n\u001b[1;32m    229\u001b[0m         headers\u001b[39m=\u001b[39;49m{\u001b[39m\"\u001b[39;49m\u001b[39mUser-Agent\u001b[39;49m\u001b[39m\"\u001b[39;49m: \u001b[39m\"\u001b[39;49m\u001b[39mpyalex/\u001b[39;49m\u001b[39m\"\u001b[39;49m \u001b[39m+\u001b[39;49m __version__, \u001b[39m\"\u001b[39;49m\u001b[39memail\u001b[39;49m\u001b[39m\"\u001b[39;49m: config\u001b[39m.\u001b[39;49memail},\n\u001b[1;32m    230\u001b[0m         params\u001b[39m=\u001b[39;49mparams,\n\u001b[1;32m    231\u001b[0m     )\n\u001b[1;32m    233\u001b[0m     \u001b[39m# handle query errors\u001b[39;00m\n\u001b[1;32m    234\u001b[0m     \u001b[39mif\u001b[39;00m res\u001b[39m.\u001b[39mstatus_code \u001b[39m==\u001b[39m \u001b[39m403\u001b[39m:\n",
      "File \u001b[0;32m/Applications/anaconda3/envs/mena/lib/python3.10/site-packages/requests/sessions.py:602\u001b[0m, in \u001b[0;36mSession.get\u001b[0;34m(self, url, **kwargs)\u001b[0m\n\u001b[1;32m    594\u001b[0m \u001b[39m\u001b[39m\u001b[39mr\u001b[39m\u001b[39m\"\"\"Sends a GET request. Returns :class:`Response` object.\u001b[39;00m\n\u001b[1;32m    595\u001b[0m \n\u001b[1;32m    596\u001b[0m \u001b[39m:param url: URL for the new :class:`Request` object.\u001b[39;00m\n\u001b[1;32m    597\u001b[0m \u001b[39m:param \\*\\*kwargs: Optional arguments that ``request`` takes.\u001b[39;00m\n\u001b[1;32m    598\u001b[0m \u001b[39m:rtype: requests.Response\u001b[39;00m\n\u001b[1;32m    599\u001b[0m \u001b[39m\"\"\"\u001b[39;00m\n\u001b[1;32m    601\u001b[0m kwargs\u001b[39m.\u001b[39msetdefault(\u001b[39m\"\u001b[39m\u001b[39mallow_redirects\u001b[39m\u001b[39m\"\u001b[39m, \u001b[39mTrue\u001b[39;00m)\n\u001b[0;32m--> 602\u001b[0m \u001b[39mreturn\u001b[39;00m \u001b[39mself\u001b[39;49m\u001b[39m.\u001b[39;49mrequest(\u001b[39m\"\u001b[39;49m\u001b[39mGET\u001b[39;49m\u001b[39m\"\u001b[39;49m, url, \u001b[39m*\u001b[39;49m\u001b[39m*\u001b[39;49mkwargs)\n",
      "File \u001b[0;32m/Applications/anaconda3/envs/mena/lib/python3.10/site-packages/requests/sessions.py:589\u001b[0m, in \u001b[0;36mSession.request\u001b[0;34m(self, method, url, params, data, headers, cookies, files, auth, timeout, allow_redirects, proxies, hooks, stream, verify, cert, json)\u001b[0m\n\u001b[1;32m    584\u001b[0m send_kwargs \u001b[39m=\u001b[39m {\n\u001b[1;32m    585\u001b[0m     \u001b[39m\"\u001b[39m\u001b[39mtimeout\u001b[39m\u001b[39m\"\u001b[39m: timeout,\n\u001b[1;32m    586\u001b[0m     \u001b[39m\"\u001b[39m\u001b[39mallow_redirects\u001b[39m\u001b[39m\"\u001b[39m: allow_redirects,\n\u001b[1;32m    587\u001b[0m }\n\u001b[1;32m    588\u001b[0m send_kwargs\u001b[39m.\u001b[39mupdate(settings)\n\u001b[0;32m--> 589\u001b[0m resp \u001b[39m=\u001b[39m \u001b[39mself\u001b[39;49m\u001b[39m.\u001b[39;49msend(prep, \u001b[39m*\u001b[39;49m\u001b[39m*\u001b[39;49msend_kwargs)\n\u001b[1;32m    591\u001b[0m \u001b[39mreturn\u001b[39;00m resp\n",
      "File \u001b[0;32m/Applications/anaconda3/envs/mena/lib/python3.10/site-packages/requests/sessions.py:725\u001b[0m, in \u001b[0;36mSession.send\u001b[0;34m(self, request, **kwargs)\u001b[0m\n\u001b[1;32m    722\u001b[0m \u001b[39mif\u001b[39;00m allow_redirects:\n\u001b[1;32m    723\u001b[0m     \u001b[39m# Redirect resolving generator.\u001b[39;00m\n\u001b[1;32m    724\u001b[0m     gen \u001b[39m=\u001b[39m \u001b[39mself\u001b[39m\u001b[39m.\u001b[39mresolve_redirects(r, request, \u001b[39m*\u001b[39m\u001b[39m*\u001b[39mkwargs)\n\u001b[0;32m--> 725\u001b[0m     history \u001b[39m=\u001b[39m [resp \u001b[39mfor\u001b[39;00m resp \u001b[39min\u001b[39;00m gen]\n\u001b[1;32m    726\u001b[0m \u001b[39melse\u001b[39;00m:\n\u001b[1;32m    727\u001b[0m     history \u001b[39m=\u001b[39m []\n",
      "File \u001b[0;32m/Applications/anaconda3/envs/mena/lib/python3.10/site-packages/requests/sessions.py:725\u001b[0m, in \u001b[0;36m<listcomp>\u001b[0;34m(.0)\u001b[0m\n\u001b[1;32m    722\u001b[0m \u001b[39mif\u001b[39;00m allow_redirects:\n\u001b[1;32m    723\u001b[0m     \u001b[39m# Redirect resolving generator.\u001b[39;00m\n\u001b[1;32m    724\u001b[0m     gen \u001b[39m=\u001b[39m \u001b[39mself\u001b[39m\u001b[39m.\u001b[39mresolve_redirects(r, request, \u001b[39m*\u001b[39m\u001b[39m*\u001b[39mkwargs)\n\u001b[0;32m--> 725\u001b[0m     history \u001b[39m=\u001b[39m [resp \u001b[39mfor\u001b[39;00m resp \u001b[39min\u001b[39;00m gen]\n\u001b[1;32m    726\u001b[0m \u001b[39melse\u001b[39;00m:\n\u001b[1;32m    727\u001b[0m     history \u001b[39m=\u001b[39m []\n",
      "File \u001b[0;32m/Applications/anaconda3/envs/mena/lib/python3.10/site-packages/requests/sessions.py:266\u001b[0m, in \u001b[0;36mSessionRedirectMixin.resolve_redirects\u001b[0;34m(self, resp, req, stream, timeout, verify, cert, proxies, yield_requests, **adapter_kwargs)\u001b[0m\n\u001b[1;32m    263\u001b[0m     \u001b[39myield\u001b[39;00m req\n\u001b[1;32m    264\u001b[0m \u001b[39melse\u001b[39;00m:\n\u001b[0;32m--> 266\u001b[0m     resp \u001b[39m=\u001b[39m \u001b[39mself\u001b[39;49m\u001b[39m.\u001b[39;49msend(\n\u001b[1;32m    267\u001b[0m         req,\n\u001b[1;32m    268\u001b[0m         stream\u001b[39m=\u001b[39;49mstream,\n\u001b[1;32m    269\u001b[0m         timeout\u001b[39m=\u001b[39;49mtimeout,\n\u001b[1;32m    270\u001b[0m         verify\u001b[39m=\u001b[39;49mverify,\n\u001b[1;32m    271\u001b[0m         cert\u001b[39m=\u001b[39;49mcert,\n\u001b[1;32m    272\u001b[0m         proxies\u001b[39m=\u001b[39;49mproxies,\n\u001b[1;32m    273\u001b[0m         allow_redirects\u001b[39m=\u001b[39;49m\u001b[39mFalse\u001b[39;49;00m,\n\u001b[1;32m    274\u001b[0m         \u001b[39m*\u001b[39;49m\u001b[39m*\u001b[39;49madapter_kwargs,\n\u001b[1;32m    275\u001b[0m     )\n\u001b[1;32m    277\u001b[0m     extract_cookies_to_jar(\u001b[39mself\u001b[39m\u001b[39m.\u001b[39mcookies, prepared_request, resp\u001b[39m.\u001b[39mraw)\n\u001b[1;32m    279\u001b[0m     \u001b[39m# extract redirect url, if any, for the next loop\u001b[39;00m\n",
      "File \u001b[0;32m/Applications/anaconda3/envs/mena/lib/python3.10/site-packages/requests/sessions.py:703\u001b[0m, in \u001b[0;36mSession.send\u001b[0;34m(self, request, **kwargs)\u001b[0m\n\u001b[1;32m    700\u001b[0m start \u001b[39m=\u001b[39m preferred_clock()\n\u001b[1;32m    702\u001b[0m \u001b[39m# Send the request\u001b[39;00m\n\u001b[0;32m--> 703\u001b[0m r \u001b[39m=\u001b[39m adapter\u001b[39m.\u001b[39;49msend(request, \u001b[39m*\u001b[39;49m\u001b[39m*\u001b[39;49mkwargs)\n\u001b[1;32m    705\u001b[0m \u001b[39m# Total elapsed time of the request (approximately)\u001b[39;00m\n\u001b[1;32m    706\u001b[0m elapsed \u001b[39m=\u001b[39m preferred_clock() \u001b[39m-\u001b[39m start\n",
      "File \u001b[0;32m/Applications/anaconda3/envs/mena/lib/python3.10/site-packages/requests/adapters.py:486\u001b[0m, in \u001b[0;36mHTTPAdapter.send\u001b[0;34m(self, request, stream, timeout, verify, cert, proxies)\u001b[0m\n\u001b[1;32m    483\u001b[0m     timeout \u001b[39m=\u001b[39m TimeoutSauce(connect\u001b[39m=\u001b[39mtimeout, read\u001b[39m=\u001b[39mtimeout)\n\u001b[1;32m    485\u001b[0m \u001b[39mtry\u001b[39;00m:\n\u001b[0;32m--> 486\u001b[0m     resp \u001b[39m=\u001b[39m conn\u001b[39m.\u001b[39;49murlopen(\n\u001b[1;32m    487\u001b[0m         method\u001b[39m=\u001b[39;49mrequest\u001b[39m.\u001b[39;49mmethod,\n\u001b[1;32m    488\u001b[0m         url\u001b[39m=\u001b[39;49murl,\n\u001b[1;32m    489\u001b[0m         body\u001b[39m=\u001b[39;49mrequest\u001b[39m.\u001b[39;49mbody,\n\u001b[1;32m    490\u001b[0m         headers\u001b[39m=\u001b[39;49mrequest\u001b[39m.\u001b[39;49mheaders,\n\u001b[1;32m    491\u001b[0m         redirect\u001b[39m=\u001b[39;49m\u001b[39mFalse\u001b[39;49;00m,\n\u001b[1;32m    492\u001b[0m         assert_same_host\u001b[39m=\u001b[39;49m\u001b[39mFalse\u001b[39;49;00m,\n\u001b[1;32m    493\u001b[0m         preload_content\u001b[39m=\u001b[39;49m\u001b[39mFalse\u001b[39;49;00m,\n\u001b[1;32m    494\u001b[0m         decode_content\u001b[39m=\u001b[39;49m\u001b[39mFalse\u001b[39;49;00m,\n\u001b[1;32m    495\u001b[0m         retries\u001b[39m=\u001b[39;49m\u001b[39mself\u001b[39;49m\u001b[39m.\u001b[39;49mmax_retries,\n\u001b[1;32m    496\u001b[0m         timeout\u001b[39m=\u001b[39;49mtimeout,\n\u001b[1;32m    497\u001b[0m         chunked\u001b[39m=\u001b[39;49mchunked,\n\u001b[1;32m    498\u001b[0m     )\n\u001b[1;32m    500\u001b[0m \u001b[39mexcept\u001b[39;00m (ProtocolError, \u001b[39mOSError\u001b[39;00m) \u001b[39mas\u001b[39;00m err:\n\u001b[1;32m    501\u001b[0m     \u001b[39mraise\u001b[39;00m \u001b[39mConnectionError\u001b[39;00m(err, request\u001b[39m=\u001b[39mrequest)\n",
      "File \u001b[0;32m/Applications/anaconda3/envs/mena/lib/python3.10/site-packages/urllib3/connectionpool.py:791\u001b[0m, in \u001b[0;36mHTTPConnectionPool.urlopen\u001b[0;34m(self, method, url, body, headers, retries, redirect, assert_same_host, timeout, pool_timeout, release_conn, chunked, body_pos, preload_content, decode_content, **response_kw)\u001b[0m\n\u001b[1;32m    788\u001b[0m response_conn \u001b[39m=\u001b[39m conn \u001b[39mif\u001b[39;00m \u001b[39mnot\u001b[39;00m release_conn \u001b[39melse\u001b[39;00m \u001b[39mNone\u001b[39;00m\n\u001b[1;32m    790\u001b[0m \u001b[39m# Make the request on the HTTPConnection object\u001b[39;00m\n\u001b[0;32m--> 791\u001b[0m response \u001b[39m=\u001b[39m \u001b[39mself\u001b[39;49m\u001b[39m.\u001b[39;49m_make_request(\n\u001b[1;32m    792\u001b[0m     conn,\n\u001b[1;32m    793\u001b[0m     method,\n\u001b[1;32m    794\u001b[0m     url,\n\u001b[1;32m    795\u001b[0m     timeout\u001b[39m=\u001b[39;49mtimeout_obj,\n\u001b[1;32m    796\u001b[0m     body\u001b[39m=\u001b[39;49mbody,\n\u001b[1;32m    797\u001b[0m     headers\u001b[39m=\u001b[39;49mheaders,\n\u001b[1;32m    798\u001b[0m     chunked\u001b[39m=\u001b[39;49mchunked,\n\u001b[1;32m    799\u001b[0m     retries\u001b[39m=\u001b[39;49mretries,\n\u001b[1;32m    800\u001b[0m     response_conn\u001b[39m=\u001b[39;49mresponse_conn,\n\u001b[1;32m    801\u001b[0m     preload_content\u001b[39m=\u001b[39;49mpreload_content,\n\u001b[1;32m    802\u001b[0m     decode_content\u001b[39m=\u001b[39;49mdecode_content,\n\u001b[1;32m    803\u001b[0m     \u001b[39m*\u001b[39;49m\u001b[39m*\u001b[39;49mresponse_kw,\n\u001b[1;32m    804\u001b[0m )\n\u001b[1;32m    806\u001b[0m \u001b[39m# Everything went great!\u001b[39;00m\n\u001b[1;32m    807\u001b[0m clean_exit \u001b[39m=\u001b[39m \u001b[39mTrue\u001b[39;00m\n",
      "File \u001b[0;32m/Applications/anaconda3/envs/mena/lib/python3.10/site-packages/urllib3/connectionpool.py:537\u001b[0m, in \u001b[0;36mHTTPConnectionPool._make_request\u001b[0;34m(self, conn, method, url, body, headers, retries, timeout, chunked, response_conn, preload_content, decode_content, enforce_content_length)\u001b[0m\n\u001b[1;32m    535\u001b[0m \u001b[39m# Receive the response from the server\u001b[39;00m\n\u001b[1;32m    536\u001b[0m \u001b[39mtry\u001b[39;00m:\n\u001b[0;32m--> 537\u001b[0m     response \u001b[39m=\u001b[39m conn\u001b[39m.\u001b[39;49mgetresponse()\n\u001b[1;32m    538\u001b[0m \u001b[39mexcept\u001b[39;00m (BaseSSLError, \u001b[39mOSError\u001b[39;00m) \u001b[39mas\u001b[39;00m e:\n\u001b[1;32m    539\u001b[0m     \u001b[39mself\u001b[39m\u001b[39m.\u001b[39m_raise_timeout(err\u001b[39m=\u001b[39me, url\u001b[39m=\u001b[39murl, timeout_value\u001b[39m=\u001b[39mread_timeout)\n",
      "File \u001b[0;32m/Applications/anaconda3/envs/mena/lib/python3.10/site-packages/urllib3/connection.py:461\u001b[0m, in \u001b[0;36mHTTPConnection.getresponse\u001b[0;34m(self)\u001b[0m\n\u001b[1;32m    458\u001b[0m \u001b[39mfrom\u001b[39;00m \u001b[39m.\u001b[39;00m\u001b[39mresponse\u001b[39;00m \u001b[39mimport\u001b[39;00m HTTPResponse\n\u001b[1;32m    460\u001b[0m \u001b[39m# Get the response from http.client.HTTPConnection\u001b[39;00m\n\u001b[0;32m--> 461\u001b[0m httplib_response \u001b[39m=\u001b[39m \u001b[39msuper\u001b[39;49m()\u001b[39m.\u001b[39;49mgetresponse()\n\u001b[1;32m    463\u001b[0m \u001b[39mtry\u001b[39;00m:\n\u001b[1;32m    464\u001b[0m     assert_header_parsing(httplib_response\u001b[39m.\u001b[39mmsg)\n",
      "File \u001b[0;32m/Applications/anaconda3/envs/mena/lib/python3.10/http/client.py:1375\u001b[0m, in \u001b[0;36mHTTPConnection.getresponse\u001b[0;34m(self)\u001b[0m\n\u001b[1;32m   1373\u001b[0m \u001b[39mtry\u001b[39;00m:\n\u001b[1;32m   1374\u001b[0m     \u001b[39mtry\u001b[39;00m:\n\u001b[0;32m-> 1375\u001b[0m         response\u001b[39m.\u001b[39;49mbegin()\n\u001b[1;32m   1376\u001b[0m     \u001b[39mexcept\u001b[39;00m \u001b[39mConnectionError\u001b[39;00m:\n\u001b[1;32m   1377\u001b[0m         \u001b[39mself\u001b[39m\u001b[39m.\u001b[39mclose()\n",
      "File \u001b[0;32m/Applications/anaconda3/envs/mena/lib/python3.10/http/client.py:318\u001b[0m, in \u001b[0;36mHTTPResponse.begin\u001b[0;34m(self)\u001b[0m\n\u001b[1;32m    316\u001b[0m \u001b[39m# read until we get a non-100 response\u001b[39;00m\n\u001b[1;32m    317\u001b[0m \u001b[39mwhile\u001b[39;00m \u001b[39mTrue\u001b[39;00m:\n\u001b[0;32m--> 318\u001b[0m     version, status, reason \u001b[39m=\u001b[39m \u001b[39mself\u001b[39;49m\u001b[39m.\u001b[39;49m_read_status()\n\u001b[1;32m    319\u001b[0m     \u001b[39mif\u001b[39;00m status \u001b[39m!=\u001b[39m CONTINUE:\n\u001b[1;32m    320\u001b[0m         \u001b[39mbreak\u001b[39;00m\n",
      "File \u001b[0;32m/Applications/anaconda3/envs/mena/lib/python3.10/http/client.py:279\u001b[0m, in \u001b[0;36mHTTPResponse._read_status\u001b[0;34m(self)\u001b[0m\n\u001b[1;32m    278\u001b[0m \u001b[39mdef\u001b[39;00m \u001b[39m_read_status\u001b[39m(\u001b[39mself\u001b[39m):\n\u001b[0;32m--> 279\u001b[0m     line \u001b[39m=\u001b[39m \u001b[39mstr\u001b[39m(\u001b[39mself\u001b[39;49m\u001b[39m.\u001b[39;49mfp\u001b[39m.\u001b[39;49mreadline(_MAXLINE \u001b[39m+\u001b[39;49m \u001b[39m1\u001b[39;49m), \u001b[39m\"\u001b[39m\u001b[39miso-8859-1\u001b[39m\u001b[39m\"\u001b[39m)\n\u001b[1;32m    280\u001b[0m     \u001b[39mif\u001b[39;00m \u001b[39mlen\u001b[39m(line) \u001b[39m>\u001b[39m _MAXLINE:\n\u001b[1;32m    281\u001b[0m         \u001b[39mraise\u001b[39;00m LineTooLong(\u001b[39m\"\u001b[39m\u001b[39mstatus line\u001b[39m\u001b[39m\"\u001b[39m)\n",
      "File \u001b[0;32m/Applications/anaconda3/envs/mena/lib/python3.10/socket.py:705\u001b[0m, in \u001b[0;36mSocketIO.readinto\u001b[0;34m(self, b)\u001b[0m\n\u001b[1;32m    703\u001b[0m \u001b[39mwhile\u001b[39;00m \u001b[39mTrue\u001b[39;00m:\n\u001b[1;32m    704\u001b[0m     \u001b[39mtry\u001b[39;00m:\n\u001b[0;32m--> 705\u001b[0m         \u001b[39mreturn\u001b[39;00m \u001b[39mself\u001b[39;49m\u001b[39m.\u001b[39;49m_sock\u001b[39m.\u001b[39;49mrecv_into(b)\n\u001b[1;32m    706\u001b[0m     \u001b[39mexcept\u001b[39;00m timeout:\n\u001b[1;32m    707\u001b[0m         \u001b[39mself\u001b[39m\u001b[39m.\u001b[39m_timeout_occurred \u001b[39m=\u001b[39m \u001b[39mTrue\u001b[39;00m\n",
      "File \u001b[0;32m/Applications/anaconda3/envs/mena/lib/python3.10/ssl.py:1307\u001b[0m, in \u001b[0;36mSSLSocket.recv_into\u001b[0;34m(self, buffer, nbytes, flags)\u001b[0m\n\u001b[1;32m   1303\u001b[0m     \u001b[39mif\u001b[39;00m flags \u001b[39m!=\u001b[39m \u001b[39m0\u001b[39m:\n\u001b[1;32m   1304\u001b[0m         \u001b[39mraise\u001b[39;00m \u001b[39mValueError\u001b[39;00m(\n\u001b[1;32m   1305\u001b[0m           \u001b[39m\"\u001b[39m\u001b[39mnon-zero flags not allowed in calls to recv_into() on \u001b[39m\u001b[39m%s\u001b[39;00m\u001b[39m\"\u001b[39m \u001b[39m%\u001b[39m\n\u001b[1;32m   1306\u001b[0m           \u001b[39mself\u001b[39m\u001b[39m.\u001b[39m\u001b[39m__class__\u001b[39m)\n\u001b[0;32m-> 1307\u001b[0m     \u001b[39mreturn\u001b[39;00m \u001b[39mself\u001b[39;49m\u001b[39m.\u001b[39;49mread(nbytes, buffer)\n\u001b[1;32m   1308\u001b[0m \u001b[39melse\u001b[39;00m:\n\u001b[1;32m   1309\u001b[0m     \u001b[39mreturn\u001b[39;00m \u001b[39msuper\u001b[39m()\u001b[39m.\u001b[39mrecv_into(buffer, nbytes, flags)\n",
      "File \u001b[0;32m/Applications/anaconda3/envs/mena/lib/python3.10/ssl.py:1163\u001b[0m, in \u001b[0;36mSSLSocket.read\u001b[0;34m(self, len, buffer)\u001b[0m\n\u001b[1;32m   1161\u001b[0m \u001b[39mtry\u001b[39;00m:\n\u001b[1;32m   1162\u001b[0m     \u001b[39mif\u001b[39;00m buffer \u001b[39mis\u001b[39;00m \u001b[39mnot\u001b[39;00m \u001b[39mNone\u001b[39;00m:\n\u001b[0;32m-> 1163\u001b[0m         \u001b[39mreturn\u001b[39;00m \u001b[39mself\u001b[39;49m\u001b[39m.\u001b[39;49m_sslobj\u001b[39m.\u001b[39;49mread(\u001b[39mlen\u001b[39;49m, buffer)\n\u001b[1;32m   1164\u001b[0m     \u001b[39melse\u001b[39;00m:\n\u001b[1;32m   1165\u001b[0m         \u001b[39mreturn\u001b[39;00m \u001b[39mself\u001b[39m\u001b[39m.\u001b[39m_sslobj\u001b[39m.\u001b[39mread(\u001b[39mlen\u001b[39m)\n",
      "\u001b[0;31mKeyboardInterrupt\u001b[0m: "
     ]
    }
   ],
   "source": [
    "final_data = []\n",
    "# Iterate over DataFrame rows\n",
    "for index, row in tqdm(df.iterrows(), total=len(df)):\n",
    "    try:\n",
    "        work = Works()[row.id]\n",
    "        if \"abstract_inverted_index\" in work:\n",
    "            abstract = reconstruct_abstract(work[\"abstract_inverted_index\"])\n",
    "            work[\"abstract\"] = abstract\n",
    "        final_data.append(work)\n",
    "    except KeyError as e:\n",
    "        print(f\"Key error: {e} in row index {index}\")\n",
    "    except Exception as e:\n",
    "        print(f\"An error occurred: {e} in row index {index}\")"
   ]
  },
  {
   "cell_type": "code",
   "execution_count": 20,
   "metadata": {},
   "outputs": [],
   "source": [
    "work = Works()[df.iloc[0].id]"
   ]
  },
  {
   "cell_type": "code",
   "execution_count": 25,
   "metadata": {},
   "outputs": [],
   "source": [
    "def reconstruct_abstract(inverted_index):\n",
    "    # Create a list of tuples, each containing a word and its first occurrence index\n",
    "    word_positions = [(word, positions[0]) for word, positions in inverted_index.items()]\n",
    "\n",
    "    # Sort the tuples based on the index\n",
    "    sorted_words = sorted(word_positions, key=lambda x: x[1])\n",
    "\n",
    "    # Extract the sorted words\n",
    "    sorted_words_only = [word for word, position in sorted_words]\n",
    "\n",
    "    # Join the words into a single string\n",
    "    abstract = ' '.join(sorted_words_only)\n",
    "\n",
    "    return abstract"
   ]
  },
  {
   "cell_type": "code",
   "execution_count": 26,
   "metadata": {},
   "outputs": [],
   "source": [
    "abstract = reconstruct_abstract(work[\"abstract_inverted_index\"])"
   ]
  },
  {
   "cell_type": "code",
   "execution_count": 31,
   "metadata": {},
   "outputs": [],
   "source": [
    "ids = df.id.tolist()[:10]"
   ]
  },
  {
   "cell_type": "code",
   "execution_count": 37,
   "metadata": {},
   "outputs": [],
   "source": [
    "works = Works()[\"|\".join(ids)]"
   ]
  },
  {
   "cell_type": "code",
   "execution_count": 38,
   "metadata": {},
   "outputs": [
    {
     "data": {
      "text/plain": [
       "42"
      ]
     },
     "execution_count": 38,
     "metadata": {},
     "output_type": "execute_result"
    }
   ],
   "source": [
    "len(works)"
   ]
  },
  {
   "cell_type": "code",
   "execution_count": 39,
   "metadata": {},
   "outputs": [
    {
     "data": {
      "text/plain": [
       "['https://openalex.org/W4205869927',\n",
       " 'https://openalex.org/W4297854822',\n",
       " 'https://openalex.org/W3093626553',\n",
       " 'https://openalex.org/W4304591020',\n",
       " 'https://openalex.org/W4293243082',\n",
       " 'https://openalex.org/W4282599125',\n",
       " 'https://openalex.org/W4200036874',\n",
       " 'https://openalex.org/W3212247621',\n",
       " 'https://openalex.org/W4205234211',\n",
       " 'https://openalex.org/W4206701281']"
      ]
     },
     "execution_count": 39,
     "metadata": {},
     "output_type": "execute_result"
    }
   ],
   "source": [
    "ids"
   ]
  },
  {
   "cell_type": "code",
   "execution_count": 67,
   "metadata": {},
   "outputs": [],
   "source": [
    "query = Works().search(\"medieval\").filter(publication_year=1960)"
   ]
  },
  {
   "cell_type": "code",
   "execution_count": 68,
   "metadata": {},
   "outputs": [
    {
     "data": {
      "text/plain": [
       "2476"
      ]
     },
     "execution_count": 68,
     "metadata": {},
     "output_type": "execute_result"
    }
   ],
   "source": [
    "query.count()"
   ]
  },
  {
   "cell_type": "code",
   "execution_count": 81,
   "metadata": {},
   "outputs": [
    {
     "name": "stdout",
     "output_type": "stream",
     "text": [
      "1970 4268\n",
      "1971 3515\n",
      "1972 3822\n",
      "1973 4147\n",
      "1974 4063\n",
      "1975 4377\n",
      "1976 4358\n",
      "ConnectionError encountered for year 1976. Retrying...\n",
      "1976 4358\n",
      "ConnectionError encountered for year 1976. Retrying...\n",
      "1976 4358\n",
      "ConnectionError encountered for year 1976. Retrying...\n",
      "1976 4358\n",
      "1977 4853\n",
      "ConnectionError encountered for year 1977. Retrying...\n",
      "1977 4853\n",
      "1978 4845\n",
      "1979 4756\n",
      "ConnectionError encountered for year 1979. Retrying...\n",
      "1979 4756\n",
      "ConnectionError encountered for year 1979. Retrying...\n",
      "1979 4756\n",
      "1980 5010\n",
      "1981 5085\n",
      "ConnectionError encountered for year 1981. Retrying...\n",
      "1981 5085\n",
      "ConnectionError encountered for year 1981. Retrying...\n",
      "1981 5085\n",
      "ConnectionError encountered for year 1981. Retrying...\n",
      "1981 5085\n",
      "1982 5361\n",
      "ConnectionError encountered for year 1982. Retrying...\n",
      "1982 5361\n",
      "ConnectionError encountered for year 1982. Retrying...\n",
      "1982 5361\n",
      "1983 5529\n",
      "1984 5810\n",
      "1985 5954\n",
      "1986 6397\n",
      "1987 6906\n",
      "ConnectionError encountered for year 1987. Retrying...\n",
      "1987 6906\n",
      "ConnectionError encountered for year 1987. Retrying...\n",
      "1987 6906\n",
      "1988 6698\n",
      "1989 7189\n",
      "1990 7784\n",
      "ConnectionError encountered for year 1990. Retrying...\n",
      "1990 7784\n",
      "ConnectionError encountered for year 1990. Retrying...\n",
      "1990 7784\n",
      "ConnectionError encountered for year 1991. Retrying...\n",
      "1991 7967\n",
      "ConnectionError encountered for year 1991. Retrying...\n",
      "1991 7967\n",
      "1992 8880\n",
      "1993 8741\n",
      "ConnectionError encountered for year 1993. Retrying...\n",
      "1993 8741\n",
      "ConnectionError encountered for year 1993. Retrying...\n",
      "1993 8741\n",
      "1994 9088\n",
      "1995 9580\n",
      "1996 9878\n",
      "1997 10369\n",
      "1998 10565\n",
      "ConnectionError encountered for year 1998. Retrying...\n",
      "1998 10565\n",
      "1999 11179\n",
      "2000 11786\n",
      "ConnectionError encountered for year 2000. Retrying...\n",
      "2000 11786\n",
      "ConnectionError encountered for year 2000. Retrying...\n",
      "2000 11786\n",
      "ConnectionError encountered for year 2000. Retrying...\n",
      "2000 11786\n",
      "2001 11871\n",
      "ConnectionError encountered for year 2001. Retrying...\n",
      "2001 11871\n",
      "ConnectionError encountered for year 2001. Retrying...\n",
      "2001 11871\n",
      "ConnectionError encountered for year 2001. Retrying...\n",
      "2001 11871\n",
      "ConnectionError encountered for year 2001. Retrying...\n",
      "2001 11871\n"
     ]
    }
   ],
   "source": [
    "for year in range(1970, 2023):\n",
    "    success = False\n",
    "\n",
    "    while not success:\n",
    "        try:\n",
    "            query = Works().search(\"medieval\").filter(publication_year=year)\n",
    "            print(year, query.count())\n",
    "\n",
    "            all_records = []  # Initialize or clear the list for each year\n",
    "            for record in chain(*query.paginate(per_page=200, n_max=None)):\n",
    "                all_records.append(record)\n",
    "\n",
    "            with open(f'./data/{year}.json', 'w') as file:\n",
    "                json.dump(all_records, file)\n",
    "\n",
    "            success = True  # Mark this year as successfully processed\n",
    "\n",
    "        except ConnectionError as e:\n",
    "            print(f\"ConnectionError encountered for year {year}. Retrying...\")   "
   ]
  },
  {
   "cell_type": "code",
   "execution_count": 70,
   "metadata": {},
   "outputs": [
    {
     "data": {
      "text/plain": [
       "200"
      ]
     },
     "execution_count": 70,
     "metadata": {},
     "output_type": "execute_result"
    }
   ],
   "source": [
    "len(all_records)"
   ]
  },
  {
   "cell_type": "code",
   "execution_count": null,
   "metadata": {},
   "outputs": [],
   "source": [
    "df = pd.DataFrame(all_records)\n",
    "df.to_csv(\"data/1960.csv\")"
   ]
  },
  {
   "cell_type": "code",
   "execution_count": 62,
   "metadata": {},
   "outputs": [
    {
     "data": {
      "text/plain": [
       "{'This': [0],\n",
       " 'is': [1, 56, 129],\n",
       " 'the': [2, 14, 35, 43, 97, 108, 121, 141, 145, 171, 195, 199, 211, 218],\n",
       " 'first': [3],\n",
       " 'monograph-length': [4],\n",
       " 'study': [5],\n",
       " 'in': [6, 29, 76, 126, 174, 183],\n",
       " 'English': [7],\n",
       " 'of': [8, 13, 19, 27, 32, 103, 137, 160, 189, 201],\n",
       " 'Kamo': [9],\n",
       " 'no': [10],\n",
       " 'Chōmei,': [11, 202],\n",
       " 'one': [12],\n",
       " 'most': [15],\n",
       " 'important': [16, 131],\n",
       " 'literary': [17, 81],\n",
       " 'figures': [18],\n",
       " 'medieval': [20, 157, 184],\n",
       " 'Japan.': [21, 185],\n",
       " 'Drawing': [22],\n",
       " 'upon': [23, 114],\n",
       " 'a': [24, 30, 86, 112, 134, 176, 207],\n",
       " 'wide': [25],\n",
       " 'range': [26],\n",
       " 'writings': [28],\n",
       " 'variety': [31],\n",
       " 'genres': [33],\n",
       " 'from': [34],\n",
       " 'Heian': [36],\n",
       " 'and': [37, 49, 61, 82, 124, 147, 210],\n",
       " 'Kamakura': [38],\n",
       " 'periods,': [39],\n",
       " 'Pandey': [40],\n",
       " 'focuses': [41],\n",
       " 'on': [42, 170],\n",
       " 'terms': [44, 72],\n",
       " 'kyōgen': [45],\n",
       " 'kigo': [46],\n",
       " '(wild': [47],\n",
       " 'words': [48],\n",
       " 'fancy': [50],\n",
       " 'phrases),': [51],\n",
       " 'shoji': [52],\n",
       " 'soku': [53],\n",
       " 'nehan': [54],\n",
       " '(samsara': [55],\n",
       " 'nirvana),': [57],\n",
       " 'hōben': [58],\n",
       " '(expedient': [59],\n",
       " 'means),': [60],\n",
       " 'suki': [62],\n",
       " '(single-minded': [63],\n",
       " 'devotion': [64],\n",
       " 'to': [65, 79, 88, 120, 133, 156, 180, 215],\n",
       " 'an': [66, 77, 100, 130, 187],\n",
       " 'art).': [67],\n",
       " 'She': [68],\n",
       " 'shows': [69],\n",
       " 'how': [70],\n",
       " 'these': [71],\n",
       " 'deployed': [73],\n",
       " 'by': [74, 192],\n",
       " 'writers': [75],\n",
       " 'attempt': [78],\n",
       " 'reconcile': [80],\n",
       " 'artistic': [83],\n",
       " 'activities': [84, 205],\n",
       " 'with': [85],\n",
       " 'commitment': [87],\n",
       " 'Buddhism.': [89],\n",
       " 'By': [90],\n",
       " 'locating': [91],\n",
       " 'Chōmei': [92],\n",
       " 'within': [93],\n",
       " 'this': [94],\n",
       " 'broad': [95],\n",
       " 'context,': [96],\n",
       " 'book': [98, 196],\n",
       " 'offers': [99],\n",
       " 'original': [101],\n",
       " 'reading': [102],\n",
       " 'his': [104, 204, 216],\n",
       " 'texts,': [105],\n",
       " 'while': [106],\n",
       " 'at': [107],\n",
       " 'same': [109],\n",
       " 'time': [110],\n",
       " 'casting': [111],\n",
       " 'light': [113, 169],\n",
       " 'intellectual': [115],\n",
       " 'preoccupations': [116],\n",
       " 'that': [117, 139, 150, 213],\n",
       " 'were': [118, 162],\n",
       " 'central': [119],\n",
       " 'times.': [122],\n",
       " 'Writing': [123],\n",
       " 'Renunciation': [125],\n",
       " 'Medieval': [127],\n",
       " 'Japan': [128],\n",
       " 'contribution': [132],\n",
       " 'growing': [135],\n",
       " 'body': [136],\n",
       " 'work': [138],\n",
       " 'challenges': [140],\n",
       " 'rigid': [142],\n",
       " 'distinction': [143, 149],\n",
       " 'between': [144],\n",
       " 'religious': [146],\n",
       " 'literary—a': [148],\n",
       " 'would': [151],\n",
       " 'have': [152],\n",
       " 'made': [153],\n",
       " 'little': [154],\n",
       " 'sense': [155],\n",
       " 'writers,': [158],\n",
       " 'many': [159],\n",
       " 'whom': [161],\n",
       " 'poets': [163],\n",
       " 'as': [164, 166, 206],\n",
       " 'well': [165],\n",
       " 'priests—and': [167],\n",
       " 'sheds': [168],\n",
       " 'particular': [172],\n",
       " 'ways': [173],\n",
       " 'which': [175],\n",
       " 'religio-aesthetic': [177],\n",
       " 'tradition': [178],\n",
       " 'came': [179],\n",
       " 'be': [181],\n",
       " 'articulated': [182],\n",
       " 'Through': [186],\n",
       " 'examination': [188],\n",
       " 'records': [190],\n",
       " 'left': [191],\n",
       " \"Chōmei's\": [193],\n",
       " 'contemporaries,': [194],\n",
       " 'also': [197],\n",
       " 'traces': [198],\n",
       " 'life': [200],\n",
       " 'particularly': [203],\n",
       " 'court': [208],\n",
       " 'poet': [209],\n",
       " 'circumstances': [212],\n",
       " 'led': [214],\n",
       " 'taking': [217],\n",
       " 'tonsure.': [219]}"
      ]
     },
     "execution_count": 62,
     "metadata": {},
     "output_type": "execute_result"
    }
   ],
   "source": [
    "all_records[0][\"abstract_inverted_index\"]"
   ]
  },
  {
   "cell_type": "code",
   "execution_count": null,
   "metadata": {},
   "outputs": [],
   "source": []
  }
 ],
 "metadata": {
  "kernelspec": {
   "display_name": "mena",
   "language": "python",
   "name": "python3"
  },
  "language_info": {
   "codemirror_mode": {
    "name": "ipython",
    "version": 3
   },
   "file_extension": ".py",
   "mimetype": "text/x-python",
   "name": "python",
   "nbconvert_exporter": "python",
   "pygments_lexer": "ipython3",
   "version": "3.10.13"
  }
 },
 "nbformat": 4,
 "nbformat_minor": 2
}
